{
 "cells": [
  {
   "cell_type": "code",
   "execution_count": 81,
   "metadata": {},
   "outputs": [],
   "source": [
    "import tensorflow as tf\n",
    "from tensorflow.examples.tutorials.mnist import input_data\n",
    "import random"
   ]
  },
  {
   "cell_type": "markdown",
   "metadata": {},
   "source": [
    "- MNIST 데이터 로딩"
   ]
  },
  {
   "cell_type": "code",
   "execution_count": 82,
   "metadata": {},
   "outputs": [
    {
     "name": "stdout",
     "output_type": "stream",
     "text": [
      "Extracting ./train-images-idx3-ubyte.gz\n",
      "Extracting ./train-labels-idx1-ubyte.gz\n",
      "Extracting ./t10k-images-idx3-ubyte.gz\n",
      "Extracting ./t10k-labels-idx1-ubyte.gz\n"
     ]
    }
   ],
   "source": [
    "mnist = input_data.read_data_sets('./', one_hot=True)"
   ]
  },
  {
   "cell_type": "markdown",
   "metadata": {},
   "source": [
    "- hyperparameter 설정"
   ]
  },
  {
   "cell_type": "code",
   "execution_count": 83,
   "metadata": {},
   "outputs": [],
   "source": [
    "lr = 0.01\n",
    "training_epoch=30\n",
    "batch_size=100\n",
    "display_step = 1\n",
    "input_nx = 28*28\n",
    "classes = 10"
   ]
  },
  {
   "cell_type": "code",
   "execution_count": 84,
   "metadata": {},
   "outputs": [],
   "source": [
    "tf.reset_default_graph()"
   ]
  },
  {
   "cell_type": "code",
   "execution_count": 85,
   "metadata": {},
   "outputs": [],
   "source": [
    "X = tf.placeholder('float', [None, input_nx])\n",
    "Y = tf.placeholder('float', [None, classes])"
   ]
  },
  {
   "cell_type": "code",
   "execution_count": 86,
   "metadata": {},
   "outputs": [],
   "source": [
    "W = tf.Variable(tf.zeros([input_nx, classes]))\n",
    "b = tf.Variable(tf.zeros([classes]))"
   ]
  },
  {
   "cell_type": "code",
   "execution_count": 87,
   "metadata": {},
   "outputs": [],
   "source": [
    "activation = tf.nn.softmax(tf.matmul(X, W)+b)"
   ]
  },
  {
   "cell_type": "code",
   "execution_count": 94,
   "metadata": {},
   "outputs": [],
   "source": [
    "cost = tf.reduce_mean(-tf.reduce_mean(Y*tf.log(activation)+(1-Y)*tf.log(1-activation), reduction_indices=1))\n",
    "train = tf.train.GradientDescentOptimizer(lr).minimize(cost)\n",
    "init = tf.global_variables_initializer()"
   ]
  },
  {
   "cell_type": "code",
   "execution_count": 98,
   "metadata": {},
   "outputs": [],
   "source": [
    "correct_prediction = tf.equal(tf.argmax(activation, 1), tf.argmax(Y,1))\n",
    "error_rate = 1. - tf.reduce_mean(tf.cast(correct_prediction, 'float'))"
   ]
  },
  {
   "cell_type": "code",
   "execution_count": 99,
   "metadata": {},
   "outputs": [
    {
     "name": "stdout",
     "output_type": "stream",
     "text": [
      "epoch:   1, avg_cost: 0.2921, training error: 0.257, testing error:0.247\n",
      "epoch:   2, avg_cost: 0.2388, training error: 0.231, testing error:0.216\n",
      "epoch:   3, avg_cost: 0.2013, training error: 0.208, testing error:0.194\n",
      "epoch:   4, avg_cost: 0.1754, training error: 0.192, testing error:0.179\n",
      "epoch:   5, avg_cost: 0.1571, training error: 0.181, testing error:0.17\n",
      "epoch:   6, avg_cost: 0.1437, training error: 0.172, testing error:0.162\n",
      "epoch:   7, avg_cost: 0.1336, training error: 0.166, testing error:0.156\n",
      "epoch:   8, avg_cost: 0.1256, training error: 0.161, testing error:0.15\n",
      "epoch:   9, avg_cost: 0.1192, training error: 0.156, testing error:0.146\n",
      "epoch:  10, avg_cost: 0.1139, training error: 0.152, testing error:0.14\n",
      "epoch:  11, avg_cost: 0.1095, training error: 0.148, testing error:0.138\n",
      "epoch:  12, avg_cost: 0.1057, training error: 0.145, testing error:0.135\n",
      "epoch:  13, avg_cost: 0.1024, training error: 0.143, testing error:0.132\n",
      "epoch:  14, avg_cost: 0.09958, training error: 0.141, testing error:0.131\n",
      "epoch:  15, avg_cost: 0.09708, training error: 0.139, testing error:0.129\n",
      "epoch:  16, avg_cost: 0.09485, training error: 0.138, testing error:0.126\n",
      "epoch:  17, avg_cost: 0.09285, training error: 0.136, testing error:0.124\n",
      "epoch:  18, avg_cost: 0.09106, training error: 0.134, testing error:0.124\n",
      "epoch:  19, avg_cost: 0.08942, training error: 0.133, testing error:0.123\n",
      "epoch:  20, avg_cost: 0.08793, training error: 0.132, testing error:0.122\n",
      "epoch:  21, avg_cost: 0.08657, training error: 0.13, testing error:0.121\n",
      "epoch:  22, avg_cost: 0.08531, training error: 0.129, testing error:0.119\n",
      "epoch:  23, avg_cost: 0.08415, training error: 0.128, testing error:0.118\n",
      "epoch:  24, avg_cost: 0.08307, training error: 0.126, testing error:0.117\n",
      "epoch:  25, avg_cost: 0.08207, training error: 0.126, testing error:0.116\n",
      "epoch:  26, avg_cost: 0.08113, training error: 0.125, testing error:0.116\n",
      "epoch:  27, avg_cost: 0.08025, training error: 0.124, testing error:0.115\n",
      "epoch:  28, avg_cost: 0.07943, training error: 0.123, testing error:0.114\n",
      "epoch:  29, avg_cost: 0.07865, training error: 0.123, testing error:0.113\n",
      "epoch:  30, avg_cost: 0.07792, training error: 0.122, testing error:0.113\n",
      "------------------------------------------------------------\n",
      "label: [8]\n",
      "predict: [8]\n"
     ]
    }
   ],
   "source": [
    "with tf.Session() as sess:\n",
    "    sess.run(init)\n",
    "    \n",
    "    for epoch in range(training_epoch):\n",
    "        avg_cost = 0\n",
    "        total_batch = int(mnist.train.num_examples/batch_size)\n",
    "        for i in range(total_batch):\n",
    "            batch_xs, batch_ys = mnist.train.next_batch(batch_size)\n",
    "            sess.run(train, feed_dict={X:batch_xs, Y:batch_ys})\n",
    "            avg_cost += sess.run(cost, feed_dict={X:batch_xs, Y:batch_ys})/total_batch\n",
    "            \n",
    "        if epoch % display_step == 0 :\n",
    "            print(\"epoch: {:3}, avg_cost: {:2.4}, training error: {:1.3}, testing error:{:1.3}\".\n",
    "                  format(epoch+1, \n",
    "                         avg_cost, \n",
    "                         error_rate.eval({X:mnist.train.images, Y:mnist.train.labels}),\n",
    "                         error_rate.eval({X:mnist.test.images, Y:mnist.test.labels})\n",
    "                 )\n",
    "            )\n",
    "            \n",
    "    \n",
    "    print(\"--\"*30)\n",
    "    r = random.randint(0, mnist.test.num_examples-1)\n",
    "    print(\"label:\", sess.run(tf.argmax(mnist.test.labels[r:r+1], 1)) )\n",
    "    print(\"predict:\", sess.run(tf.argmax(activation, 1), feed_dict={X:mnist.test.images[r:r+1]}))"
   ]
  },
  {
   "cell_type": "code",
   "execution_count": null,
   "metadata": {},
   "outputs": [],
   "source": []
  }
 ],
 "metadata": {
  "kernelspec": {
   "display_name": "Python 3",
   "language": "python",
   "name": "python3"
  },
  "language_info": {
   "codemirror_mode": {
    "name": "ipython",
    "version": 3
   },
   "file_extension": ".py",
   "mimetype": "text/x-python",
   "name": "python",
   "nbconvert_exporter": "python",
   "pygments_lexer": "ipython3",
   "version": "3.5.2"
  }
 },
 "nbformat": 4,
 "nbformat_minor": 2
}
