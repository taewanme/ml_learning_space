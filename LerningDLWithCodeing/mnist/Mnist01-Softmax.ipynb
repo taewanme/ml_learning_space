{
 "cells": [
  {
   "cell_type": "code",
   "execution_count": 128,
   "metadata": {},
   "outputs": [],
   "source": [
    "import tensorflow as tf\n",
    "from tensorflow.examples.tutorials.mnist import input_data\n",
    "import random"
   ]
  },
  {
   "cell_type": "markdown",
   "metadata": {},
   "source": [
    "- MNIST 데이터 로딩"
   ]
  },
  {
   "cell_type": "code",
   "execution_count": 129,
   "metadata": {},
   "outputs": [
    {
     "name": "stdout",
     "output_type": "stream",
     "text": [
      "Extracting ./train-images-idx3-ubyte.gz\n",
      "Extracting ./train-labels-idx1-ubyte.gz\n",
      "Extracting ./t10k-images-idx3-ubyte.gz\n",
      "Extracting ./t10k-labels-idx1-ubyte.gz\n"
     ]
    }
   ],
   "source": [
    "mnist = input_data.read_data_sets('./', one_hot=True)"
   ]
  },
  {
   "cell_type": "markdown",
   "metadata": {},
   "source": [
    "- hyperparameter 설정"
   ]
  },
  {
   "cell_type": "code",
   "execution_count": 130,
   "metadata": {},
   "outputs": [],
   "source": [
    "lr = 0.01\n",
    "training_epoch=100\n",
    "batch_size=100\n",
    "display_step = 4\n",
    "input_nx = 28*28\n",
    "classes = 10"
   ]
  },
  {
   "cell_type": "code",
   "execution_count": 131,
   "metadata": {},
   "outputs": [],
   "source": [
    "tf.reset_default_graph()"
   ]
  },
  {
   "cell_type": "code",
   "execution_count": 132,
   "metadata": {},
   "outputs": [],
   "source": [
    "X = tf.placeholder('float', [None, input_nx])\n",
    "Y = tf.placeholder('float', [None, classes])"
   ]
  },
  {
   "cell_type": "code",
   "execution_count": 133,
   "metadata": {},
   "outputs": [],
   "source": [
    "W = tf.Variable(tf.zeros([input_nx, classes]))\n",
    "b = tf.Variable(tf.zeros([classes]))"
   ]
  },
  {
   "cell_type": "code",
   "execution_count": 134,
   "metadata": {},
   "outputs": [],
   "source": [
    "activation = tf.nn.softmax(tf.matmul(X, W)+b)"
   ]
  },
  {
   "cell_type": "code",
   "execution_count": 135,
   "metadata": {},
   "outputs": [],
   "source": [
    "cost = tf.reduce_mean(-tf.reduce_mean(Y*tf.log(activation)+(1-Y)*tf.log(1-activation), reduction_indices=1))\n",
    "train = tf.train.GradientDescentOptimizer(lr).minimize(cost)\n",
    "init = tf.global_variables_initializer()"
   ]
  },
  {
   "cell_type": "code",
   "execution_count": 136,
   "metadata": {},
   "outputs": [],
   "source": [
    "correct_prediction = tf.equal(tf.argmax(activation, 1), tf.argmax(Y,1))\n",
    "error_rate = 1. - tf.reduce_mean(tf.cast(correct_prediction, 'float'))"
   ]
  },
  {
   "cell_type": "code",
   "execution_count": 137,
   "metadata": {},
   "outputs": [],
   "source": [
    "error_rate_train= []\n",
    "error_rate_test =[]"
   ]
  },
  {
   "cell_type": "code",
   "execution_count": 138,
   "metadata": {},
   "outputs": [
    {
     "name": "stdout",
     "output_type": "stream",
     "text": [
      "epoch:   1, avg_cost: 0.2921, training error: 0.255, testing error:0.246\n",
      "epoch:   5, avg_cost: 0.1571, training error: 0.18, testing error:0.169\n",
      "epoch:   9, avg_cost: 0.1192, training error: 0.156, testing error:0.145\n",
      "epoch:  13, avg_cost: 0.1024, training error: 0.143, testing error:0.132\n",
      "epoch:  17, avg_cost: 0.09285, training error: 0.136, testing error:0.126\n",
      "epoch:  21, avg_cost: 0.08657, training error: 0.13, testing error:0.121\n",
      "epoch:  25, avg_cost: 0.08207, training error: 0.126, testing error:0.117\n",
      "epoch:  29, avg_cost: 0.07865, training error: 0.122, testing error:0.114\n",
      "epoch:  33, avg_cost: 0.07596, training error: 0.12, testing error:0.112\n",
      "epoch:  37, avg_cost: 0.07375, training error: 0.117, testing error:0.109\n",
      "epoch:  41, avg_cost: 0.07191, training error: 0.115, testing error:0.107\n",
      "epoch:  45, avg_cost: 0.07034, training error: 0.113, testing error:0.104\n",
      "epoch:  49, avg_cost: 0.06899, training error: 0.111, testing error:0.103\n",
      "epoch:  53, avg_cost: 0.0678, training error: 0.11, testing error:0.101\n",
      "epoch:  57, avg_cost: 0.06674, training error: 0.108, testing error:0.0996\n",
      "epoch:  61, avg_cost: 0.0658, training error: 0.107, testing error:0.0986\n",
      "epoch:  65, avg_cost: 0.06495, training error: 0.106, testing error:0.0979\n",
      "epoch:  69, avg_cost: 0.06418, training error: 0.105, testing error:0.0973\n",
      "epoch:  73, avg_cost: 0.06347, training error: 0.104, testing error:0.0961\n",
      "epoch:  77, avg_cost: 0.06283, training error: 0.103, testing error:0.0955\n",
      "epoch:  81, avg_cost: 0.06223, training error: 0.102, testing error:0.0942\n",
      "epoch:  85, avg_cost: 0.06168, training error: 0.101, testing error:0.0928\n",
      "epoch:  89, avg_cost: 0.06117, training error: 0.101, testing error:0.0927\n",
      "epoch:  93, avg_cost: 0.06069, training error: 0.1, testing error:0.0921\n",
      "epoch:  97, avg_cost: 0.06024, training error: 0.0995, testing error:0.0914\n",
      "------------------------------------------------------------\n",
      "label: [1]\n",
      "predict: [1]\n"
     ]
    }
   ],
   "source": [
    "with tf.Session() as sess:\n",
    "    sess.run(init)\n",
    "    \n",
    "    for epoch in range(training_epoch):\n",
    "        avg_cost = 0\n",
    "        total_batch = int(mnist.train.num_examples/batch_size)\n",
    "        for i in range(total_batch):\n",
    "            batch_xs, batch_ys = mnist.train.next_batch(batch_size)\n",
    "            sess.run(train, feed_dict={X:batch_xs, Y:batch_ys})\n",
    "            avg_cost += sess.run(cost, feed_dict={X:batch_xs, Y:batch_ys})/total_batch\n",
    "            \n",
    "        error_rate_train.append(error_rate.eval({X:mnist.train.images, Y:mnist.train.labels}))\n",
    "        error_rate_test.append(error_rate.eval({X:mnist.test.images, Y:mnist.test.labels}))\n",
    "            \n",
    "        if epoch % display_step == 0 :\n",
    "            print(\"epoch: {:3}, avg_cost: {:1.2}, training error: {:1.2}, testing error:{:1.2}\".\n",
    "                  format(epoch+1, \n",
    "                         avg_cost, \n",
    "                         error_rate.eval({X:mnist.train.images, Y:mnist.train.labels}),\n",
    "                         error_rate.eval({X:mnist.test.images, Y:mnist.test.labels})\n",
    "                 )\n",
    "            )\n",
    "            \n",
    "    \n",
    "    print(\"--\"*30)\n",
    "    r = random.randint(0, mnist.test.num_examples-1)\n",
    "    print(\"label:\", sess.run(tf.argmax(mnist.test.labels[r:r+1], 1)) )\n",
    "    print(\"predict:\", sess.run(tf.argmax(activation, 1), feed_dict={X:mnist.test.images[r:r+1]}))"
   ]
  },
  {
   "cell_type": "code",
   "execution_count": 139,
   "metadata": {},
   "outputs": [],
   "source": [
    "import matplotlib.pyplot as plt"
   ]
  },
  {
   "cell_type": "code",
   "execution_count": 140,
   "metadata": {},
   "outputs": [
    {
     "data": {
      "image/png": "[encoded data removed]",
      "text/plain": [
       "<matplotlib.figure.Figure at 0x7f7b76f19ba8>"
      ]
     },
     "metadata": {},
     "output_type": "display_data"
    }
   ],
   "source": [
    "plt.plot(error_rate_train)\n",
    "plt.plot(error_rate_test)\n",
    "plt.ylabel(\"r\")\n",
    "plt.show()"
   ]
  },
  {
   "cell_type": "code",
   "execution_count": null,
   "metadata": {},
   "outputs": [],
   "source": []
  }
 ],
 "metadata": {
  "kernelspec": {
   "display_name": "Python 3",
   "language": "python",
   "name": "python3"
  },
  "language_info": {
   "codemirror_mode": {
    "name": "ipython",
    "version": 3
   },
   "file_extension": ".py",
   "mimetype": "text/x-python",
   "name": "python",
   "nbconvert_exporter": "python",
   "pygments_lexer": "ipython3",
   "version": "3.5.2"
  }
 },
 "nbformat": 4,
 "nbformat_minor": 2
}
