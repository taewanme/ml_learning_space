{
 "cells": [
  {
   "cell_type": "markdown",
   "metadata": {},
   "source": [
    "# ch04. 컨볼루션 신경망 모델 만들기"
   ]
  },
  {
   "cell_type": "markdown",
   "metadata": {},
   "source": [
    "- ImageDataGenerator\n",
    "- flow_from_directory\n",
    "    - 인자 1: 이미지 경로 지정\n",
    "    - target_size\n",
    "    - batch_size\n",
    "    - class_mode\n",
    "        - categorical: 2D one-hot\n",
    "        - binary: 1D 이진 라벨\n",
    "        - sparse: 1D 정수\n",
    "        - None: 라벨 반환"
   ]
  },
  {
   "cell_type": "markdown",
   "metadata": {},
   "source": [
    "- Data Augmentation"
   ]
  },
  {
   "cell_type": "code",
   "execution_count": 2,
   "metadata": {},
   "outputs": [],
   "source": [
    "from keras.preprocessing.image import ImageDataGenerator"
   ]
  },
  {
   "cell_type": "code",
   "execution_count": 3,
   "metadata": {},
   "outputs": [],
   "source": [
    "train_datagen = ImageDataGenerator(rescale=1./255)"
   ]
  },
  {
   "cell_type": "code",
   "execution_count": 4,
   "metadata": {},
   "outputs": [
    {
     "name": "stdout",
     "output_type": "stream",
     "text": [
      "Found 45 images belonging to 3 classes.\n"
     ]
    }
   ],
   "source": [
    "train_generator = train_datagen.flow_from_directory(\n",
    "    './data/shape/train',\n",
    "    target_size=(24, 24),\n",
    "    batch_size=3,\n",
    "    class_mode='categorical'\n",
    ")"
   ]
  },
  {
   "cell_type": "code",
   "execution_count": 8,
   "metadata": {},
   "outputs": [],
   "source": [
    "test_datagen = ImageDataGenerator(rescale=1./255)"
   ]
  },
  {
   "cell_type": "code",
   "execution_count": 9,
   "metadata": {},
   "outputs": [
    {
     "name": "stdout",
     "output_type": "stream",
     "text": [
      "Found 15 images belonging to 3 classes.\n"
     ]
    }
   ],
   "source": [
    "test_generator = test_datagen.flow_from_directory(\n",
    "    './data/shape/test',\n",
    "    target_size=(24, 24),\n",
    "    batch_size=3,\n",
    "    class_mode='categorical'\n",
    ")"
   ]
  },
  {
   "cell_type": "markdown",
   "metadata": {},
   "source": [
    "## model"
   ]
  },
  {
   "cell_type": "code",
   "execution_count": 11,
   "metadata": {},
   "outputs": [],
   "source": [
    "from keras.models import Sequential\n",
    "from keras.layers.convolutional import Conv2D\n",
    "from keras.layers.convolutional import MaxPooling2D\n",
    "from keras.layers import Dense\n",
    "from keras.layers import Flatten"
   ]
  },
  {
   "cell_type": "code",
   "execution_count": 15,
   "metadata": {},
   "outputs": [],
   "source": [
    "model = Sequential()\n",
    "model.add(Conv2D(32, kernel_size=(3, 3), activation='relu', input_shape=(24, 24, 3)))\n",
    "model.add(Conv2D(64, kernel_size=(3, 3), activation='relu'))\n",
    "model.add(MaxPooling2D(pool_size=(2, 2)))\n",
    "model.add(Flatten())\n",
    "model.add(Dense(128, activation='relu'))\n",
    "model.add(Dense(3, activation='softmax'))"
   ]
  },
  {
   "cell_type": "code",
   "execution_count": 18,
   "metadata": {},
   "outputs": [
    {
     "data": {
      "image/svg+xml": [
       "<svg height=\"553pt\" viewBox=\"0.00 0.00 476.00 553.00\" width=\"476pt\" xmlns=\"http://www.w3.org/2000/svg\" xmlns:xlink=\"http://www.w3.org/1999/xlink\">\n",
       "<g class=\"graph\" id=\"graph0\" transform=\"scale(1 1) rotate(0) translate(4 549)\">\n",
       "<title>G</title>\n",
       "<polygon fill=\"white\" points=\"-4,4 -4,-549 472,-549 472,4 -4,4\" stroke=\"none\"/>\n",
       "<!-- 140227680933144 -->\n",
       "<g class=\"node\" id=\"node1\"><title>140227680933144</title>\n",
       "<polygon fill=\"none\" points=\"22,-498.5 22,-544.5 446,-544.5 446,-498.5 22,-498.5\" stroke=\"black\"/>\n",
       "<text font-family=\"Times,serif\" font-size=\"14.00\" text-anchor=\"middle\" x=\"131.5\" y=\"-517.8\">conv2d_1_input: InputLayer</text>\n",
       "<polyline fill=\"none\" points=\"241,-498.5 241,-544.5 \" stroke=\"black\"/>\n",
       "<text font-family=\"Times,serif\" font-size=\"14.00\" text-anchor=\"middle\" x=\"275\" y=\"-529.3\">input:</text>\n",
       "<polyline fill=\"none\" points=\"241,-521.5 309,-521.5 \" stroke=\"black\"/>\n",
       "<text font-family=\"Times,serif\" font-size=\"14.00\" text-anchor=\"middle\" x=\"275\" y=\"-506.3\">output:</text>\n",
       "<polyline fill=\"none\" points=\"309,-498.5 309,-544.5 \" stroke=\"black\"/>\n",
       "<text font-family=\"Times,serif\" font-size=\"14.00\" text-anchor=\"middle\" x=\"377.5\" y=\"-529.3\">(None, 24, 24, 3)</text>\n",
       "<polyline fill=\"none\" points=\"309,-521.5 446,-521.5 \" stroke=\"black\"/>\n",
       "<text font-family=\"Times,serif\" font-size=\"14.00\" text-anchor=\"middle\" x=\"377.5\" y=\"-506.3\">(None, 24, 24, 3)</text>\n",
       "</g>\n",
       "<!-- 140227680940328 -->\n",
       "<g class=\"node\" id=\"node2\"><title>140227680940328</title>\n",
       "<polygon fill=\"none\" points=\"51.5,-415.5 51.5,-461.5 416.5,-461.5 416.5,-415.5 51.5,-415.5\" stroke=\"black\"/>\n",
       "<text font-family=\"Times,serif\" font-size=\"14.00\" text-anchor=\"middle\" x=\"127\" y=\"-434.8\">conv2d_1: Conv2D</text>\n",
       "<polyline fill=\"none\" points=\"202.5,-415.5 202.5,-461.5 \" stroke=\"black\"/>\n",
       "<text font-family=\"Times,serif\" font-size=\"14.00\" text-anchor=\"middle\" x=\"236.5\" y=\"-446.3\">input:</text>\n",
       "<polyline fill=\"none\" points=\"202.5,-438.5 270.5,-438.5 \" stroke=\"black\"/>\n",
       "<text font-family=\"Times,serif\" font-size=\"14.00\" text-anchor=\"middle\" x=\"236.5\" y=\"-423.3\">output:</text>\n",
       "<polyline fill=\"none\" points=\"270.5,-415.5 270.5,-461.5 \" stroke=\"black\"/>\n",
       "<text font-family=\"Times,serif\" font-size=\"14.00\" text-anchor=\"middle\" x=\"343.5\" y=\"-446.3\">(None, 24, 24, 3)</text>\n",
       "<polyline fill=\"none\" points=\"270.5,-438.5 416.5,-438.5 \" stroke=\"black\"/>\n",
       "<text font-family=\"Times,serif\" font-size=\"14.00\" text-anchor=\"middle\" x=\"343.5\" y=\"-423.3\">(None, 22, 22, 32)</text>\n",
       "</g>\n",
       "<!-- 140227680933144&#45;&gt;140227680940328 -->\n",
       "<g class=\"edge\" id=\"edge1\"><title>140227680933144-&gt;140227680940328</title>\n",
       "<path d=\"M234,-498.366C234,-490.152 234,-480.658 234,-471.725\" fill=\"none\" stroke=\"black\"/>\n",
       "<polygon fill=\"black\" points=\"237.5,-471.607 234,-461.607 230.5,-471.607 237.5,-471.607\" stroke=\"black\"/>\n",
       "</g>\n",
       "<!-- 140227680940440 -->\n",
       "<g class=\"node\" id=\"node3\"><title>140227680940440</title>\n",
       "<polygon fill=\"none\" points=\"51.5,-332.5 51.5,-378.5 416.5,-378.5 416.5,-332.5 51.5,-332.5\" stroke=\"black\"/>\n",
       "<text font-family=\"Times,serif\" font-size=\"14.00\" text-anchor=\"middle\" x=\"127\" y=\"-351.8\">conv2d_2: Conv2D</text>\n",
       "<polyline fill=\"none\" points=\"202.5,-332.5 202.5,-378.5 \" stroke=\"black\"/>\n",
       "<text font-family=\"Times,serif\" font-size=\"14.00\" text-anchor=\"middle\" x=\"236.5\" y=\"-363.3\">input:</text>\n",
       "<polyline fill=\"none\" points=\"202.5,-355.5 270.5,-355.5 \" stroke=\"black\"/>\n",
       "<text font-family=\"Times,serif\" font-size=\"14.00\" text-anchor=\"middle\" x=\"236.5\" y=\"-340.3\">output:</text>\n",
       "<polyline fill=\"none\" points=\"270.5,-332.5 270.5,-378.5 \" stroke=\"black\"/>\n",
       "<text font-family=\"Times,serif\" font-size=\"14.00\" text-anchor=\"middle\" x=\"343.5\" y=\"-363.3\">(None, 22, 22, 32)</text>\n",
       "<polyline fill=\"none\" points=\"270.5,-355.5 416.5,-355.5 \" stroke=\"black\"/>\n",
       "<text font-family=\"Times,serif\" font-size=\"14.00\" text-anchor=\"middle\" x=\"343.5\" y=\"-340.3\">(None, 20, 20, 64)</text>\n",
       "</g>\n",
       "<!-- 140227680940328&#45;&gt;140227680940440 -->\n",
       "<g class=\"edge\" id=\"edge2\"><title>140227680940328-&gt;140227680940440</title>\n",
       "<path d=\"M234,-415.366C234,-407.152 234,-397.658 234,-388.725\" fill=\"none\" stroke=\"black\"/>\n",
       "<polygon fill=\"black\" points=\"237.5,-388.607 234,-378.607 230.5,-388.607 237.5,-388.607\" stroke=\"black\"/>\n",
       "</g>\n",
       "<!-- 140227690722808 -->\n",
       "<g class=\"node\" id=\"node4\"><title>140227690722808</title>\n",
       "<polygon fill=\"none\" points=\"0,-249.5 0,-295.5 468,-295.5 468,-249.5 0,-249.5\" stroke=\"black\"/>\n",
       "<text font-family=\"Times,serif\" font-size=\"14.00\" text-anchor=\"middle\" x=\"127\" y=\"-268.8\">max_pooling2d_1: MaxPooling2D</text>\n",
       "<polyline fill=\"none\" points=\"254,-249.5 254,-295.5 \" stroke=\"black\"/>\n",
       "<text font-family=\"Times,serif\" font-size=\"14.00\" text-anchor=\"middle\" x=\"288\" y=\"-280.3\">input:</text>\n",
       "<polyline fill=\"none\" points=\"254,-272.5 322,-272.5 \" stroke=\"black\"/>\n",
       "<text font-family=\"Times,serif\" font-size=\"14.00\" text-anchor=\"middle\" x=\"288\" y=\"-257.3\">output:</text>\n",
       "<polyline fill=\"none\" points=\"322,-249.5 322,-295.5 \" stroke=\"black\"/>\n",
       "<text font-family=\"Times,serif\" font-size=\"14.00\" text-anchor=\"middle\" x=\"395\" y=\"-280.3\">(None, 20, 20, 64)</text>\n",
       "<polyline fill=\"none\" points=\"322,-272.5 468,-272.5 \" stroke=\"black\"/>\n",
       "<text font-family=\"Times,serif\" font-size=\"14.00\" text-anchor=\"middle\" x=\"395\" y=\"-257.3\">(None, 10, 10, 64)</text>\n",
       "</g>\n",
       "<!-- 140227680940440&#45;&gt;140227690722808 -->\n",
       "<g class=\"edge\" id=\"edge3\"><title>140227680940440-&gt;140227690722808</title>\n",
       "<path d=\"M234,-332.366C234,-324.152 234,-314.658 234,-305.725\" fill=\"none\" stroke=\"black\"/>\n",
       "<polygon fill=\"black\" points=\"237.5,-305.607 234,-295.607 230.5,-305.607 237.5,-305.607\" stroke=\"black\"/>\n",
       "</g>\n",
       "<!-- 140227680941336 -->\n",
       "<g class=\"node\" id=\"node5\"><title>140227680941336</title>\n",
       "<polygon fill=\"none\" points=\"57,-166.5 57,-212.5 411,-212.5 411,-166.5 57,-166.5\" stroke=\"black\"/>\n",
       "<text font-family=\"Times,serif\" font-size=\"14.00\" text-anchor=\"middle\" x=\"127\" y=\"-185.8\">flatten_1: Flatten</text>\n",
       "<polyline fill=\"none\" points=\"197,-166.5 197,-212.5 \" stroke=\"black\"/>\n",
       "<text font-family=\"Times,serif\" font-size=\"14.00\" text-anchor=\"middle\" x=\"231\" y=\"-197.3\">input:</text>\n",
       "<polyline fill=\"none\" points=\"197,-189.5 265,-189.5 \" stroke=\"black\"/>\n",
       "<text font-family=\"Times,serif\" font-size=\"14.00\" text-anchor=\"middle\" x=\"231\" y=\"-174.3\">output:</text>\n",
       "<polyline fill=\"none\" points=\"265,-166.5 265,-212.5 \" stroke=\"black\"/>\n",
       "<text font-family=\"Times,serif\" font-size=\"14.00\" text-anchor=\"middle\" x=\"338\" y=\"-197.3\">(None, 10, 10, 64)</text>\n",
       "<polyline fill=\"none\" points=\"265,-189.5 411,-189.5 \" stroke=\"black\"/>\n",
       "<text font-family=\"Times,serif\" font-size=\"14.00\" text-anchor=\"middle\" x=\"338\" y=\"-174.3\">(None, 6400)</text>\n",
       "</g>\n",
       "<!-- 140227690722808&#45;&gt;140227680941336 -->\n",
       "<g class=\"edge\" id=\"edge4\"><title>140227690722808-&gt;140227680941336</title>\n",
       "<path d=\"M234,-249.366C234,-241.152 234,-231.658 234,-222.725\" fill=\"none\" stroke=\"black\"/>\n",
       "<polygon fill=\"black\" points=\"237.5,-222.607 234,-212.607 230.5,-222.607 237.5,-222.607\" stroke=\"black\"/>\n",
       "</g>\n",
       "<!-- 140227690464256 -->\n",
       "<g class=\"node\" id=\"node6\"><title>140227690464256</title>\n",
       "<polygon fill=\"none\" points=\"81,-83.5 81,-129.5 387,-129.5 387,-83.5 81,-83.5\" stroke=\"black\"/>\n",
       "<text font-family=\"Times,serif\" font-size=\"14.00\" text-anchor=\"middle\" x=\"145\" y=\"-102.8\">dense_1: Dense</text>\n",
       "<polyline fill=\"none\" points=\"209,-83.5 209,-129.5 \" stroke=\"black\"/>\n",
       "<text font-family=\"Times,serif\" font-size=\"14.00\" text-anchor=\"middle\" x=\"243\" y=\"-114.3\">input:</text>\n",
       "<polyline fill=\"none\" points=\"209,-106.5 277,-106.5 \" stroke=\"black\"/>\n",
       "<text font-family=\"Times,serif\" font-size=\"14.00\" text-anchor=\"middle\" x=\"243\" y=\"-91.3\">output:</text>\n",
       "<polyline fill=\"none\" points=\"277,-83.5 277,-129.5 \" stroke=\"black\"/>\n",
       "<text font-family=\"Times,serif\" font-size=\"14.00\" text-anchor=\"middle\" x=\"332\" y=\"-114.3\">(None, 6400)</text>\n",
       "<polyline fill=\"none\" points=\"277,-106.5 387,-106.5 \" stroke=\"black\"/>\n",
       "<text font-family=\"Times,serif\" font-size=\"14.00\" text-anchor=\"middle\" x=\"332\" y=\"-91.3\">(None, 128)</text>\n",
       "</g>\n",
       "<!-- 140227680941336&#45;&gt;140227690464256 -->\n",
       "<g class=\"edge\" id=\"edge5\"><title>140227680941336-&gt;140227690464256</title>\n",
       "<path d=\"M234,-166.366C234,-158.152 234,-148.658 234,-139.725\" fill=\"none\" stroke=\"black\"/>\n",
       "<polygon fill=\"black\" points=\"237.5,-139.607 234,-129.607 230.5,-139.607 237.5,-139.607\" stroke=\"black\"/>\n",
       "</g>\n",
       "<!-- 140227690445288 -->\n",
       "<g class=\"node\" id=\"node7\"><title>140227690445288</title>\n",
       "<polygon fill=\"none\" points=\"85.5,-0.5 85.5,-46.5 382.5,-46.5 382.5,-0.5 85.5,-0.5\" stroke=\"black\"/>\n",
       "<text font-family=\"Times,serif\" font-size=\"14.00\" text-anchor=\"middle\" x=\"149.5\" y=\"-19.8\">dense_2: Dense</text>\n",
       "<polyline fill=\"none\" points=\"213.5,-0.5 213.5,-46.5 \" stroke=\"black\"/>\n",
       "<text font-family=\"Times,serif\" font-size=\"14.00\" text-anchor=\"middle\" x=\"247.5\" y=\"-31.3\">input:</text>\n",
       "<polyline fill=\"none\" points=\"213.5,-23.5 281.5,-23.5 \" stroke=\"black\"/>\n",
       "<text font-family=\"Times,serif\" font-size=\"14.00\" text-anchor=\"middle\" x=\"247.5\" y=\"-8.3\">output:</text>\n",
       "<polyline fill=\"none\" points=\"281.5,-0.5 281.5,-46.5 \" stroke=\"black\"/>\n",
       "<text font-family=\"Times,serif\" font-size=\"14.00\" text-anchor=\"middle\" x=\"332\" y=\"-31.3\">(None, 128)</text>\n",
       "<polyline fill=\"none\" points=\"281.5,-23.5 382.5,-23.5 \" stroke=\"black\"/>\n",
       "<text font-family=\"Times,serif\" font-size=\"14.00\" text-anchor=\"middle\" x=\"332\" y=\"-8.3\">(None, 3)</text>\n",
       "</g>\n",
       "<!-- 140227690464256&#45;&gt;140227690445288 -->\n",
       "<g class=\"edge\" id=\"edge6\"><title>140227690464256-&gt;140227690445288</title>\n",
       "<path d=\"M234,-83.3664C234,-75.1516 234,-65.6579 234,-56.7252\" fill=\"none\" stroke=\"black\"/>\n",
       "<polygon fill=\"black\" points=\"237.5,-56.6068 234,-46.6068 230.5,-56.6069 237.5,-56.6068\" stroke=\"black\"/>\n",
       "</g>\n",
       "</g>\n",
       "</svg>"
      ],
      "text/plain": [
       "<IPython.core.display.SVG object>"
      ]
     },
     "execution_count": 18,
     "metadata": {},
     "output_type": "execute_result"
    }
   ],
   "source": [
    "from IPython.display import SVG\n",
    "from keras.utils.vis_utils import model_to_dot\n",
    "\n",
    "SVG(model_to_dot(model, show_shapes=True).create(prog='dot', format='svg'))"
   ]
  },
  {
   "cell_type": "code",
   "execution_count": 19,
   "metadata": {},
   "outputs": [],
   "source": [
    "import numpy as np\n",
    "from keras.models import Sequential\n",
    "from keras.layers import Dense\n",
    "from keras.layers import Flatten\n",
    "from keras.layers.convolutional import Conv2D\n",
    "from keras.layers.convolutional import MaxPooling2D\n",
    "from keras.preprocessing.image import ImageDataGenerator"
   ]
  },
  {
   "cell_type": "code",
   "execution_count": 20,
   "metadata": {},
   "outputs": [],
   "source": [
    "np.random.seed(3)"
   ]
  },
  {
   "cell_type": "code",
   "execution_count": 21,
   "metadata": {},
   "outputs": [
    {
     "name": "stdout",
     "output_type": "stream",
     "text": [
      "Found 45 images belonging to 3 classes.\n"
     ]
    }
   ],
   "source": [
    "train_datagen = ImageDataGenerator(rescale=1./255)\n",
    "\n",
    "train_genetator = train_datagen.flow_from_directory(\n",
    "    './data/shape/train/',\n",
    "    target_size=(24, 24),\n",
    "    batch_size=3,\n",
    "    class_mode='categorical'\n",
    ")"
   ]
  },
  {
   "cell_type": "code",
   "execution_count": 22,
   "metadata": {},
   "outputs": [
    {
     "name": "stdout",
     "output_type": "stream",
     "text": [
      "Found 15 images belonging to 3 classes.\n"
     ]
    }
   ],
   "source": [
    "test_datagen = ImageDataGenerator(rescale=1./255)\n",
    "\n",
    "test_generator = test_datagen.flow_from_directory(\n",
    "    './data/shape/test/',\n",
    "    target_size=(24, 24),\n",
    "    batch_size=3,\n",
    "    class_mode='categorical'\n",
    ")"
   ]
  },
  {
   "cell_type": "code",
   "execution_count": 24,
   "metadata": {},
   "outputs": [],
   "source": [
    "model = Sequential()\n",
    "model.add(Conv2D(32, kernel_size=(3, 3), activation='relu', input_shape=(24, 24, 3)))\n",
    "model.add(Conv2D(64, kernel_size=(3, 3), activation='relu'))\n",
    "model.add(MaxPooling2D(pool_size=(2, 2)))\n",
    "model.add(Flatten())\n",
    "model.add(Dense(128, activation='relu'))\n",
    "model.add(Dense(3, activation='softmax'))"
   ]
  },
  {
   "cell_type": "code",
   "execution_count": 25,
   "metadata": {},
   "outputs": [],
   "source": [
    "model.compile(loss='categorical_crossentropy', optimizer='adam', metrics=['accuracy'])"
   ]
  },
  {
   "cell_type": "code",
   "execution_count": 28,
   "metadata": {},
   "outputs": [
    {
     "name": "stdout",
     "output_type": "stream",
     "text": [
      "Epoch 1/50\n",
      "15/15 [==============================] - 0s 27ms/step - loss: 0.3003 - acc: 1.0000 - val_loss: 0.1212 - val_acc: 1.0000\n",
      "Epoch 2/50\n",
      "15/15 [==============================] - 0s 25ms/step - loss: 0.0318 - acc: 1.0000 - val_loss: 0.0245 - val_acc: 1.0000\n",
      "Epoch 3/50\n",
      "15/15 [==============================] - 0s 26ms/step - loss: 0.0043 - acc: 1.0000 - val_loss: 0.0513 - val_acc: 1.0000\n",
      "Epoch 4/50\n",
      "15/15 [==============================] - 0s 26ms/step - loss: 0.0028 - acc: 1.0000 - val_loss: 0.0862 - val_acc: 0.9333\n",
      "Epoch 5/50\n",
      "15/15 [==============================] - 0s 17ms/step - loss: 0.0013 - acc: 1.0000 - val_loss: 0.0069 - val_acc: 1.0000\n",
      "Epoch 6/50\n",
      "15/15 [==============================] - 0s 26ms/step - loss: 7.6946e-04 - acc: 1.0000 - val_loss: 0.0070 - val_acc: 1.0000\n",
      "Epoch 7/50\n",
      "15/15 [==============================] - 0s 26ms/step - loss: 1.9251e-04 - acc: 1.0000 - val_loss: 0.0118 - val_acc: 1.0000\n",
      "Epoch 8/50\n",
      "15/15 [==============================] - 0s 20ms/step - loss: 1.1748e-04 - acc: 1.0000 - val_loss: 0.0141 - val_acc: 1.0000\n",
      "Epoch 9/50\n",
      "15/15 [==============================] - 0s 26ms/step - loss: 1.0190e-04 - acc: 1.0000 - val_loss: 0.0153 - val_acc: 1.0000\n",
      "Epoch 10/50\n",
      "15/15 [==============================] - 0s 26ms/step - loss: 9.0776e-05 - acc: 1.0000 - val_loss: 0.0160 - val_acc: 1.0000\n",
      "Epoch 11/50\n",
      "15/15 [==============================] - 0s 27ms/step - loss: 8.1520e-05 - acc: 1.0000 - val_loss: 2.8842e-04 - val_acc: 1.0000\n",
      "Epoch 12/50\n",
      "15/15 [==============================] - 0s 26ms/step - loss: 7.4492e-05 - acc: 1.0000 - val_loss: 0.0148 - val_acc: 1.0000\n",
      "Epoch 13/50\n",
      "15/15 [==============================] - 0s 27ms/step - loss: 6.7376e-05 - acc: 1.0000 - val_loss: 6.2634e-04 - val_acc: 1.0000\n",
      "Epoch 14/50\n",
      "15/15 [==============================] - 0s 26ms/step - loss: 6.1437e-05 - acc: 1.0000 - val_loss: 0.0151 - val_acc: 1.0000\n",
      "Epoch 15/50\n",
      "15/15 [==============================] - 0s 25ms/step - loss: 5.7786e-05 - acc: 1.0000 - val_loss: 0.0140 - val_acc: 1.0000\n",
      "Epoch 16/50\n",
      "15/15 [==============================] - 0s 18ms/step - loss: 5.2223e-05 - acc: 1.0000 - val_loss: 0.0149 - val_acc: 1.0000\n",
      "Epoch 17/50\n",
      "15/15 [==============================] - 0s 19ms/step - loss: 4.8411e-05 - acc: 1.0000 - val_loss: 0.0147 - val_acc: 1.0000\n",
      "Epoch 18/50\n",
      "15/15 [==============================] - 0s 25ms/step - loss: 4.5716e-05 - acc: 1.0000 - val_loss: 5.0258e-04 - val_acc: 1.0000\n",
      "Epoch 19/50\n",
      "15/15 [==============================] - 0s 26ms/step - loss: 4.2069e-05 - acc: 1.0000 - val_loss: 0.0140 - val_acc: 1.0000\n",
      "Epoch 20/50\n",
      "15/15 [==============================] - 0s 25ms/step - loss: 4.0324e-05 - acc: 1.0000 - val_loss: 5.4453e-04 - val_acc: 1.0000\n",
      "Epoch 21/50\n",
      "15/15 [==============================] - 0s 25ms/step - loss: 3.7442e-05 - acc: 1.0000 - val_loss: 0.0129 - val_acc: 1.0000\n",
      "Epoch 22/50\n",
      "15/15 [==============================] - 0s 27ms/step - loss: 3.5211e-05 - acc: 1.0000 - val_loss: 0.0135 - val_acc: 1.0000\n",
      "Epoch 23/50\n",
      "15/15 [==============================] - 0s 18ms/step - loss: 3.3556e-05 - acc: 1.0000 - val_loss: 0.0130 - val_acc: 1.0000\n",
      "Epoch 24/50\n",
      "15/15 [==============================] - 0s 18ms/step - loss: 3.1664e-05 - acc: 1.0000 - val_loss: 4.6101e-04 - val_acc: 1.0000\n",
      "Epoch 25/50\n",
      "15/15 [==============================] - 0s 20ms/step - loss: 2.9987e-05 - acc: 1.0000 - val_loss: 0.0129 - val_acc: 1.0000\n",
      "Epoch 26/50\n",
      "15/15 [==============================] - 0s 19ms/step - loss: 2.8757e-05 - acc: 1.0000 - val_loss: 0.0242 - val_acc: 1.0000\n",
      "Epoch 27/50\n",
      "15/15 [==============================] - 0s 18ms/step - loss: 2.7272e-05 - acc: 1.0000 - val_loss: 4.3902e-04 - val_acc: 1.0000\n",
      "Epoch 28/50\n",
      "15/15 [==============================] - 0s 26ms/step - loss: 2.5863e-05 - acc: 1.0000 - val_loss: 4.7930e-04 - val_acc: 1.0000\n",
      "Epoch 29/50\n",
      "15/15 [==============================] - 0s 20ms/step - loss: 2.5200e-05 - acc: 1.0000 - val_loss: 0.0117 - val_acc: 1.0000\n",
      "Epoch 30/50\n",
      "15/15 [==============================] - 0s 20ms/step - loss: 2.3697e-05 - acc: 1.0000 - val_loss: 0.0125 - val_acc: 1.0000\n",
      "Epoch 31/50\n",
      "15/15 [==============================] - 0s 20ms/step - loss: 2.2491e-05 - acc: 1.0000 - val_loss: 0.0119 - val_acc: 1.0000\n",
      "Epoch 32/50\n",
      "15/15 [==============================] - 0s 28ms/step - loss: 2.1644e-05 - acc: 1.0000 - val_loss: 0.0114 - val_acc: 1.0000\n",
      "Epoch 33/50\n",
      "15/15 [==============================] - 0s 30ms/step - loss: 2.1087e-05 - acc: 1.0000 - val_loss: 0.0124 - val_acc: 1.0000\n",
      "Epoch 34/50\n",
      "15/15 [==============================] - 0s 27ms/step - loss: 1.9578e-05 - acc: 1.0000 - val_loss: 0.0116 - val_acc: 1.0000\n",
      "Epoch 35/50\n",
      "15/15 [==============================] - 0s 21ms/step - loss: 1.8482e-05 - acc: 1.0000 - val_loss: 0.0113 - val_acc: 1.0000\n",
      "Epoch 36/50\n",
      "15/15 [==============================] - 0s 20ms/step - loss: 1.7828e-05 - acc: 1.0000 - val_loss: 0.0116 - val_acc: 1.0000\n",
      "Epoch 37/50\n",
      "15/15 [==============================] - 0s 27ms/step - loss: 1.7350e-05 - acc: 1.0000 - val_loss: 0.0105 - val_acc: 1.0000\n",
      "Epoch 38/50\n",
      "15/15 [==============================] - 0s 20ms/step - loss: 1.5834e-05 - acc: 1.0000 - val_loss: 0.0108 - val_acc: 1.0000\n",
      "Epoch 39/50\n",
      "15/15 [==============================] - 0s 19ms/step - loss: 1.5084e-05 - acc: 1.0000 - val_loss: 0.0109 - val_acc: 1.0000\n",
      "Epoch 40/50\n",
      "15/15 [==============================] - 0s 27ms/step - loss: 1.4466e-05 - acc: 1.0000 - val_loss: 0.0119 - val_acc: 1.0000\n",
      "Epoch 41/50\n",
      "15/15 [==============================] - 0s 26ms/step - loss: 1.3484e-05 - acc: 1.0000 - val_loss: 0.0109 - val_acc: 1.0000\n",
      "Epoch 42/50\n",
      "15/15 [==============================] - 0s 28ms/step - loss: 1.3071e-05 - acc: 1.0000 - val_loss: 0.0117 - val_acc: 1.0000\n",
      "Epoch 43/50\n",
      "15/15 [==============================] - 0s 28ms/step - loss: 1.2032e-05 - acc: 1.0000 - val_loss: 0.0110 - val_acc: 1.0000\n",
      "Epoch 44/50\n",
      "15/15 [==============================] - 0s 20ms/step - loss: 1.1568e-05 - acc: 1.0000 - val_loss: 0.0113 - val_acc: 1.0000\n",
      "Epoch 45/50\n",
      "15/15 [==============================] - 0s 28ms/step - loss: 1.1052e-05 - acc: 1.0000 - val_loss: 0.0102 - val_acc: 1.0000\n",
      "Epoch 46/50\n",
      "15/15 [==============================] - 0s 27ms/step - loss: 1.0179e-05 - acc: 1.0000 - val_loss: 5.0718e-04 - val_acc: 1.0000\n",
      "Epoch 47/50\n",
      "15/15 [==============================] - 0s 27ms/step - loss: 9.7343e-06 - acc: 1.0000 - val_loss: 0.0231 - val_acc: 1.0000\n",
      "Epoch 48/50\n",
      "15/15 [==============================] - 0s 27ms/step - loss: 9.0879e-06 - acc: 1.0000 - val_loss: 0.0109 - val_acc: 1.0000\n",
      "Epoch 49/50\n",
      "15/15 [==============================] - 0s 27ms/step - loss: 8.7130e-06 - acc: 1.0000 - val_loss: 0.0118 - val_acc: 1.0000\n",
      "Epoch 50/50\n",
      "15/15 [==============================] - 0s 20ms/step - loss: 8.2574e-06 - acc: 1.0000 - val_loss: 0.0111 - val_acc: 1.0000\n"
     ]
    },
    {
     "data": {
      "text/plain": [
       "<keras.callbacks.History at 0x7f894d120e48>"
      ]
     },
     "execution_count": 28,
     "metadata": {},
     "output_type": "execute_result"
    }
   ],
   "source": [
    "model.fit_generator(train_generator, steps_per_epoch=15, \n",
    "                epochs=50, validation_data=test_generator,\n",
    "                validation_steps=5  )"
   ]
  },
  {
   "cell_type": "code",
   "execution_count": 29,
   "metadata": {},
   "outputs": [],
   "source": [
    "scores = model.evaluate_generator(test_generator, steps=5)"
   ]
  },
  {
   "cell_type": "code",
   "execution_count": 30,
   "metadata": {},
   "outputs": [
    {
     "data": {
      "text/plain": [
       "[0.011022989038065135, 1.0]"
      ]
     },
     "execution_count": 30,
     "metadata": {},
     "output_type": "execute_result"
    }
   ],
   "source": [
    "scores"
   ]
  },
  {
   "cell_type": "code",
   "execution_count": 31,
   "metadata": {},
   "outputs": [],
   "source": [
    "output = model.predict_generator(test_generator, steps=5)"
   ]
  },
  {
   "cell_type": "code",
   "execution_count": 32,
   "metadata": {},
   "outputs": [
    {
     "data": {
      "text/plain": [
       "{'circle': 0, 'rectangle': 1, 'triangle': 2}"
      ]
     },
     "execution_count": 32,
     "metadata": {},
     "output_type": "execute_result"
    }
   ],
   "source": [
    "test_generator.class_indices"
   ]
  },
  {
   "cell_type": "code",
   "execution_count": 38,
   "metadata": {},
   "outputs": [],
   "source": [
    "np.set_printoptions(formatter={'float':lambda x:\"{0:0.3f}\".format(x)})"
   ]
  },
  {
   "cell_type": "code",
   "execution_count": 39,
   "metadata": {},
   "outputs": [
    {
     "data": {
      "text/plain": [
       "array([[1.000, 0.000, 0.000],\n",
       "       [1.000, 0.000, 0.000],\n",
       "       [1.000, 0.000, 0.000],\n",
       "       [1.000, 0.000, 0.000],\n",
       "       [0.000, 1.000, 0.000],\n",
       "       [0.000, 1.000, 0.000],\n",
       "       [0.000, 1.000, 0.000],\n",
       "       [0.000, 1.000, 0.000],\n",
       "       [0.000, 0.006, 0.994],\n",
       "       [0.000, 0.000, 1.000],\n",
       "       [0.000, 0.000, 1.000],\n",
       "       [1.000, 0.000, 0.000],\n",
       "       [0.000, 0.000, 1.000],\n",
       "       [1.000, 0.000, 0.000],\n",
       "       [1.000, 0.000, 0.000]], dtype=float32)"
      ]
     },
     "execution_count": 39,
     "metadata": {},
     "output_type": "execute_result"
    }
   ],
   "source": [
    "output"
   ]
  },
  {
   "cell_type": "code",
   "execution_count": 37,
   "metadata": {},
   "outputs": [
    {
     "data": {
      "text/plain": [
       "array([0, 0, 0, 0, 1, 1, 1, 1, 2, 2, 2, 0, 2, 0, 0])"
      ]
     },
     "execution_count": 37,
     "metadata": {},
     "output_type": "execute_result"
    }
   ],
   "source": [
    "np.argmax(output, axis=1)"
   ]
  },
  {
   "cell_type": "code",
   "execution_count": null,
   "metadata": {},
   "outputs": [],
   "source": []
  }
 ],
 "metadata": {
  "kernelspec": {
   "display_name": "Python 3",
   "language": "python",
   "name": "python3"
  },
  "language_info": {
   "codemirror_mode": {
    "name": "ipython",
    "version": 3
   },
   "file_extension": ".py",
   "mimetype": "text/x-python",
   "name": "python",
   "nbconvert_exporter": "python",
   "pygments_lexer": "ipython3",
   "version": "3.5.2"
  }
 },
 "nbformat": 4,
 "nbformat_minor": 2
}
