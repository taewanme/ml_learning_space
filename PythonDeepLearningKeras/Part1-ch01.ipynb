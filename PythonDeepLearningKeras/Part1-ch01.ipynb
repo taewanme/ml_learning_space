{
 "cells": [
  {
   "cell_type": "markdown",
   "metadata": {},
   "source": [
    "## 케라스 작업 절차"
   ]
  },
  {
   "cell_type": "markdown",
   "metadata": {},
   "source": [
    "1. 데이터셋 생성하기\n",
    "  - 원본 데이터를 불러오거나 시뮬레이션을 통해 데이터를 생성\n",
    "  - Training Set, Validation Set, Test Set 생성\n",
    "  - 데이터 포멧 변환 (학습 및 평가 목적)\n",
    "1. 모델 구성\n",
    "  - 시퀀스 모델을 생성한 뒤 필요한 레이어 추가\n",
    "  - 복잡한 모델 생성시 케라스 API 사용\n",
    "1. 모델 학습 과정 설정\n",
    "  - 학습에 대한 설정 수정\n",
    "  - 손실 함수 및 최적화 방법 정의\n",
    "  - compile() 함수 사용\n",
    "1. 모델 학습\n",
    "  - training set으로 학습\n",
    "  - fit() 함수 사용\n",
    "1. 학습 과정 살펴보기\n",
    "  - 모델 학습 시 Training set과 validation set으로 손실 및 정확도 측정\n",
    "  - epoch에 따른 손실 및 정확도 추이 파악\n",
    "1. 모델 평가\n",
    "  - test set으로 학습 모델 평가\n",
    "  - evaluate() 함수 사용\n",
    "1. 모델 사용\n",
    "  - predict() 함수 이용하여 결과 출력"
   ]
  },
  {
   "cell_type": "markdown",
   "metadata": {},
   "source": [
    "## 예제"
   ]
  },
  {
   "cell_type": "markdown",
   "metadata": {},
   "source": [
    "- 패키지 임포트"
   ]
  },
  {
   "cell_type": "code",
   "execution_count": 56,
   "metadata": {},
   "outputs": [],
   "source": [
    "from keras.utils import np_utils\n",
    "from keras.datasets import mnist\n",
    "from keras.models import Sequential\n",
    "from keras.layers import Dense, Activation"
   ]
  },
  {
   "cell_type": "markdown",
   "metadata": {},
   "source": [
    "- 데이터 생성"
   ]
  },
  {
   "cell_type": "code",
   "execution_count": 57,
   "metadata": {},
   "outputs": [],
   "source": [
    "(x_train, y_train), (x_test, y_test) = mnist.load_data()"
   ]
  },
  {
   "cell_type": "code",
   "execution_count": 58,
   "metadata": {},
   "outputs": [],
   "source": [
    "x_train = x_train.reshape(60000, 28*28).astype(\"float\")/255.0\n",
    "x_test = x_test.reshape(10000, 28*28).astype(\"float\")/255.0\n",
    "y_train = np_utils.to_categorical(y_train)\n",
    "y_test = np_utils.to_categorical(y_test)"
   ]
  },
  {
   "cell_type": "markdown",
   "metadata": {},
   "source": [
    "- 메델 구성하기"
   ]
  },
  {
   "cell_type": "code",
   "execution_count": 59,
   "metadata": {},
   "outputs": [],
   "source": [
    "model = Sequential()\n",
    "model.add(Dense(units=64, input_dim=28*28, activation='relu'))\n",
    "model.add(Dense(units=10, activation='softmax'))"
   ]
  },
  {
   "cell_type": "markdown",
   "metadata": {},
   "source": [
    "- 모델 학습 설정"
   ]
  },
  {
   "cell_type": "code",
   "execution_count": 60,
   "metadata": {},
   "outputs": [],
   "source": [
    "model.compile(loss='categorical_crossentropy', optimizer='sgd', metrics=['accuracy'])"
   ]
  },
  {
   "cell_type": "markdown",
   "metadata": {},
   "source": [
    "- 모델 학습 시키기"
   ]
  },
  {
   "cell_type": "code",
   "execution_count": 61,
   "metadata": {},
   "outputs": [
    {
     "name": "stdout",
     "output_type": "stream",
     "text": [
      "Epoch 1/5\n",
      "60000/60000 [==============================] - 3s 48us/step - loss: 0.6695 - acc: 0.8303\n",
      "Epoch 2/5\n",
      "60000/60000 [==============================] - 3s 48us/step - loss: 0.3499 - acc: 0.9013\n",
      "Epoch 3/5\n",
      "60000/60000 [==============================] - 3s 48us/step - loss: 0.3019 - acc: 0.9136\n",
      "Epoch 4/5\n",
      "60000/60000 [==============================] - 3s 48us/step - loss: 0.2734 - acc: 0.9221\n",
      "Epoch 5/5\n",
      "60000/60000 [==============================] - 3s 48us/step - loss: 0.2521 - acc: 0.9283\n"
     ]
    }
   ],
   "source": [
    "hist = model.fit(x_train, y_train, epochs=5, batch_size=32)"
   ]
  },
  {
   "cell_type": "markdown",
   "metadata": {},
   "source": [
    "- 학습 과정 살펴보기"
   ]
  },
  {
   "cell_type": "code",
   "execution_count": 62,
   "metadata": {},
   "outputs": [
    {
     "name": "stdout",
     "output_type": "stream",
     "text": [
      "## traing loss and acc ##\n"
     ]
    },
    {
     "data": {
      "text/plain": [
       "[0.66953009915749229,\n",
       " 0.34990541252295176,\n",
       " 0.30186901571154595,\n",
       " 0.27336040011843044,\n",
       " 0.25205923408667247]"
      ]
     },
     "execution_count": 62,
     "metadata": {},
     "output_type": "execute_result"
    }
   ],
   "source": [
    "print('## traing loss and acc ##')\n",
    "hist.history['loss']"
   ]
  },
  {
   "cell_type": "code",
   "execution_count": 63,
   "metadata": {},
   "outputs": [
    {
     "data": {
      "text/plain": [
       "[0.83026666666666671,\n",
       " 0.90129999999999999,\n",
       " 0.91364999999999996,\n",
       " 0.9221166666666667,\n",
       " 0.92831666666666668]"
      ]
     },
     "execution_count": 63,
     "metadata": {},
     "output_type": "execute_result"
    }
   ],
   "source": [
    "hist.history['acc']"
   ]
  },
  {
   "cell_type": "markdown",
   "metadata": {},
   "source": [
    "- 모델 평가하기"
   ]
  },
  {
   "cell_type": "code",
   "execution_count": 64,
   "metadata": {},
   "outputs": [
    {
     "name": "stdout",
     "output_type": "stream",
     "text": [
      "10000/10000 [==============================] - 0s 26us/step\n",
      "[0.23298718755692244, 0.93420000000000003]\n"
     ]
    }
   ],
   "source": [
    "loss_and_matrics = model.evaluate(x_test, y_test, batch_size=32)\n",
    "print(loss_and_matrics)"
   ]
  },
  {
   "cell_type": "markdown",
   "metadata": {},
   "source": [
    "- 모델 사용하기"
   ]
  },
  {
   "cell_type": "code",
   "execution_count": 65,
   "metadata": {},
   "outputs": [
    {
     "data": {
      "text/plain": [
       "array([[  6.54742107e-05,   5.10649897e-07,   3.38549464e-04,\n",
       "          1.75670662e-03,   1.01389185e-06,   2.80302356e-05,\n",
       "          1.41503191e-08,   9.97416615e-01,   1.48100535e-05,\n",
       "          3.78322322e-04],\n",
       "       [  1.81983004e-03,   3.14599165e-05,   9.80484545e-01,\n",
       "          8.17153417e-03,   4.92292358e-08,   1.84261845e-03,\n",
       "          5.66735351e-03,   2.41484499e-09,   1.98257854e-03,\n",
       "          8.22676824e-08],\n",
       "       [  4.20955548e-05,   9.73558366e-01,   1.06533514e-02,\n",
       "          2.59641767e-03,   2.16928893e-04,   2.20959052e-03,\n",
       "          1.36602880e-03,   4.85149864e-03,   3.67403915e-03,\n",
       "          8.31632118e-04]], dtype=float32)"
      ]
     },
     "execution_count": 65,
     "metadata": {},
     "output_type": "execute_result"
    }
   ],
   "source": [
    "xhat = x_test[0:3]\n",
    "yhat = model.predict(xhat)\n",
    "yhat"
   ]
  },
  {
   "cell_type": "code",
   "execution_count": 66,
   "metadata": {},
   "outputs": [],
   "source": [
    "import numpy as np"
   ]
  },
  {
   "cell_type": "code",
   "execution_count": 67,
   "metadata": {},
   "outputs": [
    {
     "data": {
      "text/plain": [
       "array([7, 2, 1])"
      ]
     },
     "execution_count": 67,
     "metadata": {},
     "output_type": "execute_result"
    }
   ],
   "source": [
    "np.argmax(yhat, axis=1)"
   ]
  },
  {
   "cell_type": "code",
   "execution_count": 68,
   "metadata": {},
   "outputs": [
    {
     "data": {
      "text/plain": [
       "array([7, 2, 1])"
      ]
     },
     "execution_count": 68,
     "metadata": {},
     "output_type": "execute_result"
    }
   ],
   "source": [
    "np.argmax(y_test[0:len(yhat)], axis=1)"
   ]
  },
  {
   "cell_type": "markdown",
   "metadata": {},
   "source": [
    "- 모델 출력"
   ]
  },
  {
   "cell_type": "code",
   "execution_count": 69,
   "metadata": {},
   "outputs": [],
   "source": [
    "from IPython.display import SVG\n",
    "from keras.utils.vis_utils import model_to_dot"
   ]
  },
  {
   "cell_type": "code",
   "execution_count": 46,
   "metadata": {},
   "outputs": [],
   "source": [
    "%matplotlib inline"
   ]
  },
  {
   "cell_type": "code",
   "execution_count": 47,
   "metadata": {},
   "outputs": [
    {
     "data": {
      "image/svg+xml": [
       "<svg height=\"221pt\" viewBox=\"0.00 0.00 386.00 221.00\" width=\"386pt\" xmlns=\"http://www.w3.org/2000/svg\" xmlns:xlink=\"http://www.w3.org/1999/xlink\">\n",
       "<g class=\"graph\" id=\"graph0\" transform=\"scale(1 1) rotate(0) translate(4 217)\">\n",
       "<title>G</title>\n",
       "<polygon fill=\"white\" points=\"-4,4 -4,-217 382,-217 382,4 -4,4\" stroke=\"none\"/>\n",
       "<!-- 140323979890584 -->\n",
       "<g class=\"node\" id=\"node1\"><title>140323979890584</title>\n",
       "<polygon fill=\"none\" points=\"0,-166.5 0,-212.5 378,-212.5 378,-166.5 0,-166.5\" stroke=\"black\"/>\n",
       "<text font-family=\"Times,serif\" font-size=\"14.00\" text-anchor=\"middle\" x=\"104.5\" y=\"-185.8\">dense_5_input: InputLayer</text>\n",
       "<polyline fill=\"none\" points=\"209,-166.5 209,-212.5 \" stroke=\"black\"/>\n",
       "<text font-family=\"Times,serif\" font-size=\"14.00\" text-anchor=\"middle\" x=\"243\" y=\"-197.3\">input:</text>\n",
       "<polyline fill=\"none\" points=\"209,-189.5 277,-189.5 \" stroke=\"black\"/>\n",
       "<text font-family=\"Times,serif\" font-size=\"14.00\" text-anchor=\"middle\" x=\"243\" y=\"-174.3\">output:</text>\n",
       "<polyline fill=\"none\" points=\"277,-166.5 277,-212.5 \" stroke=\"black\"/>\n",
       "<text font-family=\"Times,serif\" font-size=\"14.00\" text-anchor=\"middle\" x=\"327.5\" y=\"-197.3\">(None, 784)</text>\n",
       "<polyline fill=\"none\" points=\"277,-189.5 378,-189.5 \" stroke=\"black\"/>\n",
       "<text font-family=\"Times,serif\" font-size=\"14.00\" text-anchor=\"middle\" x=\"327.5\" y=\"-174.3\">(None, 784)</text>\n",
       "</g>\n",
       "<!-- 140323979890416 -->\n",
       "<g class=\"node\" id=\"node2\"><title>140323979890416</title>\n",
       "<polygon fill=\"none\" points=\"40.5,-83.5 40.5,-129.5 337.5,-129.5 337.5,-83.5 40.5,-83.5\" stroke=\"black\"/>\n",
       "<text font-family=\"Times,serif\" font-size=\"14.00\" text-anchor=\"middle\" x=\"104.5\" y=\"-102.8\">dense_5: Dense</text>\n",
       "<polyline fill=\"none\" points=\"168.5,-83.5 168.5,-129.5 \" stroke=\"black\"/>\n",
       "<text font-family=\"Times,serif\" font-size=\"14.00\" text-anchor=\"middle\" x=\"202.5\" y=\"-114.3\">input:</text>\n",
       "<polyline fill=\"none\" points=\"168.5,-106.5 236.5,-106.5 \" stroke=\"black\"/>\n",
       "<text font-family=\"Times,serif\" font-size=\"14.00\" text-anchor=\"middle\" x=\"202.5\" y=\"-91.3\">output:</text>\n",
       "<polyline fill=\"none\" points=\"236.5,-83.5 236.5,-129.5 \" stroke=\"black\"/>\n",
       "<text font-family=\"Times,serif\" font-size=\"14.00\" text-anchor=\"middle\" x=\"287\" y=\"-114.3\">(None, 784)</text>\n",
       "<polyline fill=\"none\" points=\"236.5,-106.5 337.5,-106.5 \" stroke=\"black\"/>\n",
       "<text font-family=\"Times,serif\" font-size=\"14.00\" text-anchor=\"middle\" x=\"287\" y=\"-91.3\">(None, 64)</text>\n",
       "</g>\n",
       "<!-- 140323979890584&#45;&gt;140323979890416 -->\n",
       "<g class=\"edge\" id=\"edge1\"><title>140323979890584-&gt;140323979890416</title>\n",
       "<path d=\"M189,-166.366C189,-158.152 189,-148.658 189,-139.725\" fill=\"none\" stroke=\"black\"/>\n",
       "<polygon fill=\"black\" points=\"192.5,-139.607 189,-129.607 185.5,-139.607 192.5,-139.607\" stroke=\"black\"/>\n",
       "</g>\n",
       "<!-- 140323979888848 -->\n",
       "<g class=\"node\" id=\"node3\"><title>140323979888848</title>\n",
       "<polygon fill=\"none\" points=\"45,-0.5 45,-46.5 333,-46.5 333,-0.5 45,-0.5\" stroke=\"black\"/>\n",
       "<text font-family=\"Times,serif\" font-size=\"14.00\" text-anchor=\"middle\" x=\"109\" y=\"-19.8\">dense_6: Dense</text>\n",
       "<polyline fill=\"none\" points=\"173,-0.5 173,-46.5 \" stroke=\"black\"/>\n",
       "<text font-family=\"Times,serif\" font-size=\"14.00\" text-anchor=\"middle\" x=\"207\" y=\"-31.3\">input:</text>\n",
       "<polyline fill=\"none\" points=\"173,-23.5 241,-23.5 \" stroke=\"black\"/>\n",
       "<text font-family=\"Times,serif\" font-size=\"14.00\" text-anchor=\"middle\" x=\"207\" y=\"-8.3\">output:</text>\n",
       "<polyline fill=\"none\" points=\"241,-0.5 241,-46.5 \" stroke=\"black\"/>\n",
       "<text font-family=\"Times,serif\" font-size=\"14.00\" text-anchor=\"middle\" x=\"287\" y=\"-31.3\">(None, 64)</text>\n",
       "<polyline fill=\"none\" points=\"241,-23.5 333,-23.5 \" stroke=\"black\"/>\n",
       "<text font-family=\"Times,serif\" font-size=\"14.00\" text-anchor=\"middle\" x=\"287\" y=\"-8.3\">(None, 10)</text>\n",
       "</g>\n",
       "<!-- 140323979890416&#45;&gt;140323979888848 -->\n",
       "<g class=\"edge\" id=\"edge2\"><title>140323979890416-&gt;140323979888848</title>\n",
       "<path d=\"M189,-83.3664C189,-75.1516 189,-65.6579 189,-56.7252\" fill=\"none\" stroke=\"black\"/>\n",
       "<polygon fill=\"black\" points=\"192.5,-56.6068 189,-46.6068 185.5,-56.6069 192.5,-56.6068\" stroke=\"black\"/>\n",
       "</g>\n",
       "</g>\n",
       "</svg>"
      ],
      "text/plain": [
       "<IPython.core.display.SVG object>"
      ]
     },
     "execution_count": 47,
     "metadata": {},
     "output_type": "execute_result"
    }
   ],
   "source": [
    "SVG(model_to_dot(model, show_shapes=True).create(prog='dot', format='svg'))"
   ]
  },
  {
   "cell_type": "markdown",
   "metadata": {},
   "source": [
    "- 모델 저장"
   ]
  },
  {
   "cell_type": "code",
   "execution_count": 48,
   "metadata": {},
   "outputs": [],
   "source": [
    "from keras.models import load_model"
   ]
  },
  {
   "cell_type": "code",
   "execution_count": 49,
   "metadata": {},
   "outputs": [],
   "source": [
    "model.save('mnist_mlp_model.h5')"
   ]
  },
  {
   "cell_type": "code",
   "execution_count": 50,
   "metadata": {},
   "outputs": [
    {
     "name": "stdout",
     "output_type": "stream",
     "text": [
      "ch01.ipynb  mnist_mlp_model.h5\r\n"
     ]
    }
   ],
   "source": [
    "!ls "
   ]
  },
  {
   "cell_type": "code",
   "execution_count": 51,
   "metadata": {},
   "outputs": [],
   "source": [
    "model2 = load_model('./mnist_mlp_model.h5')"
   ]
  },
  {
   "cell_type": "code",
   "execution_count": 55,
   "metadata": {},
   "outputs": [
    {
     "data": {
      "text/plain": [
       "array([7, 2, 1])"
      ]
     },
     "execution_count": 55,
     "metadata": {},
     "output_type": "execute_result"
    }
   ],
   "source": [
    "xhat = x_test[0:3]\n",
    "yhat = model2.predict(xhat)\n",
    "np.argmax(yhat, axis=1)"
   ]
  },
  {
   "cell_type": "code",
   "execution_count": null,
   "metadata": {},
   "outputs": [],
   "source": []
  }
 ],
 "metadata": {
  "kernelspec": {
   "display_name": "Python 3",
   "language": "python",
   "name": "python3"
  },
  "language_info": {
   "codemirror_mode": {
    "name": "ipython",
    "version": 3
   },
   "file_extension": ".py",
   "mimetype": "text/x-python",
   "name": "python",
   "nbconvert_exporter": "python",
   "pygments_lexer": "ipython3",
   "version": "3.5.2"
  }
 },
 "nbformat": 4,
 "nbformat_minor": 2
}
