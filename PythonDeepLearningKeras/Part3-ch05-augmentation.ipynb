{
 "cells": [
  {
   "cell_type": "markdown",
   "metadata": {},
   "source": [
    "# ch 05.  CNN을 위한 데이터 부풀리기"
   ]
  },
  {
   "cell_type": "markdown",
   "metadata": {},
   "source": [
    "- 개발자가 시험셋을 만들면 안된다"
   ]
  },
  {
   "cell_type": "markdown",
   "metadata": {},
   "source": [
    "- ImageDataGenerator 옵션\n",
    "  - rotation_range = 90\n",
    "    - 0-90 도 사이로 임의의 회전\n",
    "  - width_shift_range = 0.1\n",
    "    - 10% 크기로 좌우 이동\n",
    "  - hdight_shift_range = 0.1\n",
    "    - 10% 크기로 상하 이동\n",
    "  - shear_range=0.5\n",
    "  - zoom_range=0.3\n",
    "    - 1-수치 ~ 1+수치\n",
    "  - horizontal_flip = True\n",
    "  - vertical_flip = True"
   ]
  },
  {
   "cell_type": "code",
   "execution_count": 9,
   "metadata": {},
   "outputs": [],
   "source": [
    "!mkdir ./data/shape/preview"
   ]
  },
  {
   "cell_type": "code",
   "execution_count": 10,
   "metadata": {},
   "outputs": [],
   "source": [
    "from keras.preprocessing.image import ImageDataGenerator, array_to_img, img_to_array, load_img\n",
    "import numpy as np"
   ]
  },
  {
   "cell_type": "code",
   "execution_count": 11,
   "metadata": {},
   "outputs": [],
   "source": [
    "np.random.seed(5)"
   ]
  },
  {
   "cell_type": "code",
   "execution_count": 12,
   "metadata": {},
   "outputs": [],
   "source": [
    "data_aug_gen = ImageDataGenerator(rescale=1/255.,\n",
    "                                  rotation_range=10, \n",
    "                                  width_shift_range=0.2, \n",
    "                                  height_shift_range=0.2, \n",
    "                                  shear_range=0.7, \n",
    "                                  zoom_range=[0.9, 2.2], \n",
    "                                  horizontal_flip=True, \n",
    "                                  vertical_flip=True, \n",
    "                                  fill_mode='nearest'\n",
    "                        )"
   ]
  },
  {
   "cell_type": "code",
   "execution_count": 13,
   "metadata": {},
   "outputs": [],
   "source": [
    "img = load_img('./data/shape/train/triangle/triangle001.png')\n",
    "x = img_to_array(img)\n",
    "x = x.reshape((1,)+x.shape)"
   ]
  },
  {
   "cell_type": "code",
   "execution_count": 14,
   "metadata": {},
   "outputs": [],
   "source": [
    "i=0"
   ]
  },
  {
   "cell_type": "code",
   "execution_count": 15,
   "metadata": {},
   "outputs": [],
   "source": [
    "for batch in data_aug_gen.flow(x, batch_size=1, save_to_dir='./data/shape/preview', save_prefix='tri', save_format='png'):\n",
    "    i += 1\n",
    "    if i > 30:\n",
    "        break"
   ]
  },
  {
   "cell_type": "code",
   "execution_count": 18,
   "metadata": {},
   "outputs": [
    {
     "name": "stdout",
     "output_type": "stream",
     "text": [
      "tri_0_1137.png\ttri_0_2773.png\ttri_0_5594.png\ttri_0_7123.png\ttri_0_8904.png\r\n",
      "tri_0_1850.png\ttri_0_3182.png\ttri_0_6022.png\ttri_0_7322.png\ttri_0_914.png\r\n",
      "tri_0_1862.png\ttri_0_3307.png\ttri_0_6069.png\ttri_0_7687.png\ttri_0_9286.png\r\n",
      "tri_0_2127.png\ttri_0_3693.png\ttri_0_6263.png\ttri_0_7807.png\r\n",
      "tri_0_2194.png\ttri_0_4311.png\ttri_0_6409.png\ttri_0_8266.png\r\n",
      "tri_0_2252.png\ttri_0_4487.png\ttri_0_6554.png\ttri_0_8499.png\r\n",
      "tri_0_2271.png\ttri_0_4604.png\ttri_0_6641.png\ttri_0_8581.png\r\n"
     ]
    }
   ],
   "source": [
    "!ls ./data/shape/preview/"
   ]
  },
  {
   "cell_type": "markdown",
   "metadata": {},
   "source": [
    "![](./data/shape/preview/tri_0_914.png)\n",
    "![](./data/shape/preview/tri_0_1137.png\t)"
   ]
  },
  {
   "cell_type": "code",
   "execution_count": null,
   "metadata": {},
   "outputs": [],
   "source": []
  }
 ],
 "metadata": {
  "kernelspec": {
   "display_name": "Python 3",
   "language": "python",
   "name": "python3"
  },
  "language_info": {
   "codemirror_mode": {
    "name": "ipython",
    "version": 3
   },
   "file_extension": ".py",
   "mimetype": "text/x-python",
   "name": "python",
   "nbconvert_exporter": "python",
   "pygments_lexer": "ipython3",
   "version": "3.5.2"
  }
 },
 "nbformat": 4,
 "nbformat_minor": 2
}
