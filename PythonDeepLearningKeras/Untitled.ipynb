{
 "cells": [
  {
   "cell_type": "markdown",
   "metadata": {},
   "source": [
    "```\n",
    "Dense(8, input_dim=4, activation='relu)\n",
    "```\n",
    "\n",
    "- 출력 노드\n",
    "- input_dim: 입력 노드\n",
    "- activation\n",
    "  - linear\n",
    "  - relu\n",
    "  - sigmoid\n",
    "  - softmax\n"
   ]
  }
 ],
 "metadata": {
  "kernelspec": {
   "display_name": "Python 3",
   "language": "python",
   "name": "python3"
  },
  "language_info": {
   "codemirror_mode": {
    "name": "ipython",
    "version": 3
   },
   "file_extension": ".py",
   "mimetype": "text/x-python",
   "name": "python",
   "nbconvert_exporter": "python",
   "pygments_lexer": "ipython3",
   "version": "3.5.2"
  }
 },
 "nbformat": 4,
 "nbformat_minor": 2
}
