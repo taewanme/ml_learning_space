{
 "cells": [
  {
   "cell_type": "markdown",
   "metadata": {},
   "source": [
    "# ch03. Convolution Neural Network"
   ]
  },
  {
   "cell_type": "markdown",
   "metadata": {},
   "source": [
    "- CNN 레이어 구성\n",
    "  - Convolution Layer\n",
    "  - Max pooling Layer\n",
    "  - Flatten layer"
   ]
  },
  {
   "cell_type": "markdown",
   "metadata": {},
   "source": [
    "```\n",
    "Conv2D(32, (5, 5), padding='valid', input_shape=(28, 28, 1), activation='relu\")\n",
    "```\n",
    "\n",
    "- 인자 1: convolution 필터의 수\n",
    "- 인자 2: 커널의 shape\n",
    "- padding: 경계처리\n",
    "  - valid: 유효한 영역만 출력\n",
    "  - same: 입출력 사이즈 동일\n",
    "- input_shape : input 이미지\n",
    "- activation\n",
    "  - relu\n",
    "  - linear\n",
    "  - sigmoid\n",
    "  - softmax"
   ]
  },
  {
   "cell_type": "markdown",
   "metadata": {},
   "source": [
    "- image input format\n",
    "  - channel_first\n",
    "    - (샘플수, 채널수, 행, 열)\n",
    "  - channel_last\n",
    "    - (샘플수, 행, 열, 채널수)"
   ]
  },
  {
   "cell_type": "code",
   "execution_count": null,
   "metadata": {},
   "outputs": [],
   "source": []
  }
 ],
 "metadata": {
  "kernelspec": {
   "display_name": "Python 3",
   "language": "python",
   "name": "python3"
  },
  "language_info": {
   "codemirror_mode": {
    "name": "ipython",
    "version": 3
   },
   "file_extension": ".py",
   "mimetype": "text/x-python",
   "name": "python",
   "nbconvert_exporter": "python",
   "pygments_lexer": "ipython3",
   "version": "3.5.2"
  }
 },
 "nbformat": 4,
 "nbformat_minor": 2
}
