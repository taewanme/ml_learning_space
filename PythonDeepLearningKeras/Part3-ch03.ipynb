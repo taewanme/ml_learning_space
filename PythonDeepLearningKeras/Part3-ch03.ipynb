{
 "cells": [
  {
   "cell_type": "markdown",
   "metadata": {},
   "source": [
    "# ch03. Convolution Neural Network"
   ]
  },
  {
   "cell_type": "markdown",
   "metadata": {},
   "source": [
    "- CNN 레이어 구성\n",
    "  - Convolution Layer\n",
    "  - Max pooling Layer\n",
    "  - Flatten layer"
   ]
  },
  {
   "cell_type": "markdown",
   "metadata": {},
   "source": [
    "```\n",
    "Conv2D(32, (5, 5), padding='valid', input_shape=(28, 28, 1), activation='relu\")\n",
    "```\n",
    "\n",
    "- 인자 1: convolution 필터의 수\n",
    "- 인자 2: 커널의 shape\n",
    "- padding: 경계처리\n",
    "  - valid: 유효한 영역만 출력\n",
    "  - same: 입출력 사이즈 동일\n",
    "- input_shape : input 이미지\n",
    "- activation\n",
    "  - relu\n",
    "  - linear\n",
    "  - sigmoid\n",
    "  - softmax"
   ]
  },
  {
   "cell_type": "markdown",
   "metadata": {},
   "source": [
    "- image input format\n",
    "  - channel_first\n",
    "    - (샘플수, 채널수, 행, 열)\n",
    "  - channel_last\n",
    "    - (샘플수, 행, 열, 채널수)"
   ]
  },
  {
   "cell_type": "code",
   "execution_count": 12,
   "metadata": {},
   "outputs": [
    {
     "name": "stdout",
     "output_type": "stream",
     "text": [
      "{\r\n",
      "    \"floatx\": \"float32\",\r\n",
      "    \"epsilon\": 1e-07,\r\n",
      "    \"backend\": \"tensorflow\",\r\n",
      "    \"image_data_format\": \"channels_last\"\r\n",
      "}"
     ]
    }
   ],
   "source": [
    "!cat /root/.keras/keras.json"
   ]
  },
  {
   "cell_type": "markdown",
   "metadata": {},
   "source": [
    "- 하나의 필터가 입력 이미지를 순회\n",
    "  - 파라미터 공유\n",
    "  - 가중치의 갯수를 줄임\n",
    "  - padding\n",
    "    - valid: output이 줄어듬\n",
    "    - same: output이 input이 동일\n",
    "       - 경계명 학습 효과\n"
   ]
  },
  {
   "cell_type": "markdown",
   "metadata": {},
   "source": [
    "### 연습"
   ]
  },
  {
   "cell_type": "markdown",
   "metadata": {},
   "source": [
    "```\n",
    "Conv2D(3, (2, 2), padding='samme', input_shape=(3, 3, 1))\n",
    "```"
   ]
  },
  {
   "cell_type": "markdown",
   "metadata": {},
   "source": [
    "- 필터: 3\n",
    "- 필터 사이즈: (2, 2)\n",
    "- input: 3x3\n",
    "- input channel: 1\n",
    "- output: 3x3\n",
    "- output 채널: 3"
   ]
  },
  {
   "cell_type": "markdown",
   "metadata": {},
   "source": [
    "![](http://tykimos.github.io/warehouse/2017-1-27_CNN_Layer_Talk_lego_5.png)\n",
    "\n",
    "----"
   ]
  },
  {
   "cell_type": "markdown",
   "metadata": {},
   "source": [
    "```\n",
    "Conv2D(1, (2, 2), padding='samme', input_shape=(3, 3, 3))\n",
    "```"
   ]
  },
  {
   "cell_type": "markdown",
   "metadata": {},
   "source": [
    "- 필터: 1\n",
    "- 필터 사이즈: (2, 2)\n",
    "- input: 3X3\n",
    "- input channel: 3\n",
    "- output: 3X3\n",
    "- channel: 1 (채널별 합성곱은 합산)"
   ]
  },
  {
   "cell_type": "markdown",
   "metadata": {},
   "source": [
    "![](http://tykimos.github.io/warehouse/2017-1-27_CNN_Layer_Talk_lego_6.png)"
   ]
  },
  {
   "cell_type": "markdown",
   "metadata": {},
   "source": [
    "![](http://tykimos.github.io/warehouse/2017-1-27_CNN_Layer_Talk_lego_9.png)"
   ]
  },
  {
   "cell_type": "markdown",
   "metadata": {},
   "source": [
    "----"
   ]
  },
  {
   "cell_type": "markdown",
   "metadata": {},
   "source": [
    "```\n",
    "Conv2D(2, (2, 2), padding='same', input_shape=(3, 3, 3))\n",
    "```"
   ]
  },
  {
   "cell_type": "markdown",
   "metadata": {},
   "source": [
    "- 필터: 2\n",
    "- 필터 사이즈: (2, 2)\n",
    "- input: 3X3\n",
    "- input channel: 3\n",
    "- output: 3X3\n",
    "- channel: 2 "
   ]
  },
  {
   "cell_type": "markdown",
   "metadata": {},
   "source": [
    "![](http://tykimos.github.io/warehouse/2017-1-27_CNN_Layer_Talk_lego_10.png)"
   ]
  },
  {
   "cell_type": "markdown",
   "metadata": {},
   "source": [
    "![](http://tykimos.github.io/warehouse/2017-1-27_CNN_Layer_Talk_lego_11.png)"
   ]
  },
  {
   "cell_type": "markdown",
   "metadata": {},
   "source": [
    "## reference\n",
    "\n",
    "- https://tykimos.github.io/2017/01/27/CNN_Layer_Talk/"
   ]
  },
  {
   "cell_type": "markdown",
   "metadata": {},
   "source": [
    "## CNN Design"
   ]
  },
  {
   "attachments": {},
   "cell_type": "markdown",
   "metadata": {},
   "source": [
    "![](http://tykimos.github.io/warehouse/2017-1-27_CNN_Layer_Talk_lego_22.png)\n",
    "----\n",
    "![](http://tykimos.github.io/warehouse/2017-1-27_CNN_Layer_Talk_lego_23.png)\n",
    "----\n",
    "![](http://tykimos.github.io/warehouse/2017-1-27_CNN_Layer_Talk_lego_16.png)\n",
    "----\n",
    "![](http://tykimos.github.io/warehouse/2017-1-27_CNN_Layer_Talk_lego_17.png)\n",
    "----\n",
    "![](http://tykimos.github.io/warehouse/2017-1-27_CNN_Layer_Talk_lego_18.png)\n",
    "----\n",
    "![](http://tykimos.github.io/warehouse/2017-1-27_CNN_Layer_Talk_lego_19.png)\n",
    "----\n",
    "![](http://tykimos.github.io/warehouse/2017-1-27_CNN_Layer_Talk_lego_20.png)\n",
    "----\n",
    "![](http://tykimos.github.io/warehouse/2017-1-27_CNN_Layer_Talk_lego_23.png)"
   ]
  },
  {
   "cell_type": "markdown",
   "metadata": {},
   "source": [
    "## CNN 코드 작성"
   ]
  },
  {
   "cell_type": "code",
   "execution_count": 5,
   "metadata": {},
   "outputs": [],
   "source": [
    "import numpy\n",
    "from keras.models import Sequential\n",
    "from keras.layers import Dense\n",
    "from keras.layers import Flatten\n",
    "from keras.layers.convolutional import Conv2D\n",
    "from keras.layers.convolutional import MaxPooling2D\n",
    "from keras.utils import np_utils"
   ]
  },
  {
   "cell_type": "code",
   "execution_count": 6,
   "metadata": {},
   "outputs": [],
   "source": [
    "model = Sequential()"
   ]
  },
  {
   "cell_type": "code",
   "execution_count": 7,
   "metadata": {},
   "outputs": [],
   "source": [
    "model.add(Conv2D(2, (2, 2), padding='same', activation='relu', input_shape=(8, 8, 1)))\n",
    "model.add(MaxPooling2D(pool_size=(2, 2)))\n",
    "model.add(Conv2D(3, (2, 2), padding='same', activation='relu'))\n",
    "model.add(MaxPooling2D(pool_size=(2, 2)))\n",
    "model.add(Flatten())\n",
    "model.add(Dense(8, activation='relu'))\n",
    "model.add(Dense(3, activation='softmax'))"
   ]
  },
  {
   "cell_type": "code",
   "execution_count": 9,
   "metadata": {},
   "outputs": [],
   "source": [
    "from IPython.display import SVG\n",
    "from keras.utils.vis_utils import model_to_dot"
   ]
  },
  {
   "cell_type": "code",
   "execution_count": 10,
   "metadata": {},
   "outputs": [
    {
     "data": {
      "image/svg+xml": [
       "<svg height=\"636pt\" viewBox=\"0.00 0.00 449.00 636.00\" width=\"449pt\" xmlns=\"http://www.w3.org/2000/svg\" xmlns:xlink=\"http://www.w3.org/1999/xlink\">\n",
       "<g class=\"graph\" id=\"graph0\" transform=\"scale(1 1) rotate(0) translate(4 632)\">\n",
       "<title>G</title>\n",
       "<polygon fill=\"white\" points=\"-4,4 -4,-632 445,-632 445,4 -4,4\" stroke=\"none\"/>\n",
       "<!-- 140092399114336 -->\n",
       "<g class=\"node\" id=\"node1\"><title>140092399114336</title>\n",
       "<polygon fill=\"none\" points=\"17.5,-581.5 17.5,-627.5 423.5,-627.5 423.5,-581.5 17.5,-581.5\" stroke=\"black\"/>\n",
       "<text font-family=\"Times,serif\" font-size=\"14.00\" text-anchor=\"middle\" x=\"127\" y=\"-600.8\">conv2d_1_input: InputLayer</text>\n",
       "<polyline fill=\"none\" points=\"236.5,-581.5 236.5,-627.5 \" stroke=\"black\"/>\n",
       "<text font-family=\"Times,serif\" font-size=\"14.00\" text-anchor=\"middle\" x=\"270.5\" y=\"-612.3\">input:</text>\n",
       "<polyline fill=\"none\" points=\"236.5,-604.5 304.5,-604.5 \" stroke=\"black\"/>\n",
       "<text font-family=\"Times,serif\" font-size=\"14.00\" text-anchor=\"middle\" x=\"270.5\" y=\"-589.3\">output:</text>\n",
       "<polyline fill=\"none\" points=\"304.5,-581.5 304.5,-627.5 \" stroke=\"black\"/>\n",
       "<text font-family=\"Times,serif\" font-size=\"14.00\" text-anchor=\"middle\" x=\"364\" y=\"-612.3\">(None, 8, 8, 1)</text>\n",
       "<polyline fill=\"none\" points=\"304.5,-604.5 423.5,-604.5 \" stroke=\"black\"/>\n",
       "<text font-family=\"Times,serif\" font-size=\"14.00\" text-anchor=\"middle\" x=\"364\" y=\"-589.3\">(None, 8, 8, 1)</text>\n",
       "</g>\n",
       "<!-- 140092399115064 -->\n",
       "<g class=\"node\" id=\"node2\"><title>140092399115064</title>\n",
       "<polygon fill=\"none\" points=\"51.5,-498.5 51.5,-544.5 389.5,-544.5 389.5,-498.5 51.5,-498.5\" stroke=\"black\"/>\n",
       "<text font-family=\"Times,serif\" font-size=\"14.00\" text-anchor=\"middle\" x=\"127\" y=\"-517.8\">conv2d_1: Conv2D</text>\n",
       "<polyline fill=\"none\" points=\"202.5,-498.5 202.5,-544.5 \" stroke=\"black\"/>\n",
       "<text font-family=\"Times,serif\" font-size=\"14.00\" text-anchor=\"middle\" x=\"236.5\" y=\"-529.3\">input:</text>\n",
       "<polyline fill=\"none\" points=\"202.5,-521.5 270.5,-521.5 \" stroke=\"black\"/>\n",
       "<text font-family=\"Times,serif\" font-size=\"14.00\" text-anchor=\"middle\" x=\"236.5\" y=\"-506.3\">output:</text>\n",
       "<polyline fill=\"none\" points=\"270.5,-498.5 270.5,-544.5 \" stroke=\"black\"/>\n",
       "<text font-family=\"Times,serif\" font-size=\"14.00\" text-anchor=\"middle\" x=\"330\" y=\"-529.3\">(None, 8, 8, 1)</text>\n",
       "<polyline fill=\"none\" points=\"270.5,-521.5 389.5,-521.5 \" stroke=\"black\"/>\n",
       "<text font-family=\"Times,serif\" font-size=\"14.00\" text-anchor=\"middle\" x=\"330\" y=\"-506.3\">(None, 8, 8, 2)</text>\n",
       "</g>\n",
       "<!-- 140092399114336&#45;&gt;140092399115064 -->\n",
       "<g class=\"edge\" id=\"edge1\"><title>140092399114336-&gt;140092399115064</title>\n",
       "<path d=\"M220.5,-581.366C220.5,-573.152 220.5,-563.658 220.5,-554.725\" fill=\"none\" stroke=\"black\"/>\n",
       "<polygon fill=\"black\" points=\"224,-554.607 220.5,-544.607 217,-554.607 224,-554.607\" stroke=\"black\"/>\n",
       "</g>\n",
       "<!-- 140092399113608 -->\n",
       "<g class=\"node\" id=\"node3\"><title>140092399113608</title>\n",
       "<polygon fill=\"none\" points=\"0,-415.5 0,-461.5 441,-461.5 441,-415.5 0,-415.5\" stroke=\"black\"/>\n",
       "<text font-family=\"Times,serif\" font-size=\"14.00\" text-anchor=\"middle\" x=\"127\" y=\"-434.8\">max_pooling2d_1: MaxPooling2D</text>\n",
       "<polyline fill=\"none\" points=\"254,-415.5 254,-461.5 \" stroke=\"black\"/>\n",
       "<text font-family=\"Times,serif\" font-size=\"14.00\" text-anchor=\"middle\" x=\"288\" y=\"-446.3\">input:</text>\n",
       "<polyline fill=\"none\" points=\"254,-438.5 322,-438.5 \" stroke=\"black\"/>\n",
       "<text font-family=\"Times,serif\" font-size=\"14.00\" text-anchor=\"middle\" x=\"288\" y=\"-423.3\">output:</text>\n",
       "<polyline fill=\"none\" points=\"322,-415.5 322,-461.5 \" stroke=\"black\"/>\n",
       "<text font-family=\"Times,serif\" font-size=\"14.00\" text-anchor=\"middle\" x=\"381.5\" y=\"-446.3\">(None, 8, 8, 2)</text>\n",
       "<polyline fill=\"none\" points=\"322,-438.5 441,-438.5 \" stroke=\"black\"/>\n",
       "<text font-family=\"Times,serif\" font-size=\"14.00\" text-anchor=\"middle\" x=\"381.5\" y=\"-423.3\">(None, 4, 4, 2)</text>\n",
       "</g>\n",
       "<!-- 140092399115064&#45;&gt;140092399113608 -->\n",
       "<g class=\"edge\" id=\"edge2\"><title>140092399115064-&gt;140092399113608</title>\n",
       "<path d=\"M220.5,-498.366C220.5,-490.152 220.5,-480.658 220.5,-471.725\" fill=\"none\" stroke=\"black\"/>\n",
       "<polygon fill=\"black\" points=\"224,-471.607 220.5,-461.607 217,-471.607 224,-471.607\" stroke=\"black\"/>\n",
       "</g>\n",
       "<!-- 140092399054352 -->\n",
       "<g class=\"node\" id=\"node4\"><title>140092399054352</title>\n",
       "<polygon fill=\"none\" points=\"51.5,-332.5 51.5,-378.5 389.5,-378.5 389.5,-332.5 51.5,-332.5\" stroke=\"black\"/>\n",
       "<text font-family=\"Times,serif\" font-size=\"14.00\" text-anchor=\"middle\" x=\"127\" y=\"-351.8\">conv2d_2: Conv2D</text>\n",
       "<polyline fill=\"none\" points=\"202.5,-332.5 202.5,-378.5 \" stroke=\"black\"/>\n",
       "<text font-family=\"Times,serif\" font-size=\"14.00\" text-anchor=\"middle\" x=\"236.5\" y=\"-363.3\">input:</text>\n",
       "<polyline fill=\"none\" points=\"202.5,-355.5 270.5,-355.5 \" stroke=\"black\"/>\n",
       "<text font-family=\"Times,serif\" font-size=\"14.00\" text-anchor=\"middle\" x=\"236.5\" y=\"-340.3\">output:</text>\n",
       "<polyline fill=\"none\" points=\"270.5,-332.5 270.5,-378.5 \" stroke=\"black\"/>\n",
       "<text font-family=\"Times,serif\" font-size=\"14.00\" text-anchor=\"middle\" x=\"330\" y=\"-363.3\">(None, 4, 4, 2)</text>\n",
       "<polyline fill=\"none\" points=\"270.5,-355.5 389.5,-355.5 \" stroke=\"black\"/>\n",
       "<text font-family=\"Times,serif\" font-size=\"14.00\" text-anchor=\"middle\" x=\"330\" y=\"-340.3\">(None, 4, 4, 3)</text>\n",
       "</g>\n",
       "<!-- 140092399113608&#45;&gt;140092399054352 -->\n",
       "<g class=\"edge\" id=\"edge3\"><title>140092399113608-&gt;140092399054352</title>\n",
       "<path d=\"M220.5,-415.366C220.5,-407.152 220.5,-397.658 220.5,-388.725\" fill=\"none\" stroke=\"black\"/>\n",
       "<polygon fill=\"black\" points=\"224,-388.607 220.5,-378.607 217,-388.607 224,-388.607\" stroke=\"black\"/>\n",
       "</g>\n",
       "<!-- 140092399009072 -->\n",
       "<g class=\"node\" id=\"node5\"><title>140092399009072</title>\n",
       "<polygon fill=\"none\" points=\"0,-249.5 0,-295.5 441,-295.5 441,-249.5 0,-249.5\" stroke=\"black\"/>\n",
       "<text font-family=\"Times,serif\" font-size=\"14.00\" text-anchor=\"middle\" x=\"127\" y=\"-268.8\">max_pooling2d_2: MaxPooling2D</text>\n",
       "<polyline fill=\"none\" points=\"254,-249.5 254,-295.5 \" stroke=\"black\"/>\n",
       "<text font-family=\"Times,serif\" font-size=\"14.00\" text-anchor=\"middle\" x=\"288\" y=\"-280.3\">input:</text>\n",
       "<polyline fill=\"none\" points=\"254,-272.5 322,-272.5 \" stroke=\"black\"/>\n",
       "<text font-family=\"Times,serif\" font-size=\"14.00\" text-anchor=\"middle\" x=\"288\" y=\"-257.3\">output:</text>\n",
       "<polyline fill=\"none\" points=\"322,-249.5 322,-295.5 \" stroke=\"black\"/>\n",
       "<text font-family=\"Times,serif\" font-size=\"14.00\" text-anchor=\"middle\" x=\"381.5\" y=\"-280.3\">(None, 4, 4, 3)</text>\n",
       "<polyline fill=\"none\" points=\"322,-272.5 441,-272.5 \" stroke=\"black\"/>\n",
       "<text font-family=\"Times,serif\" font-size=\"14.00\" text-anchor=\"middle\" x=\"381.5\" y=\"-257.3\">(None, 2, 2, 3)</text>\n",
       "</g>\n",
       "<!-- 140092399054352&#45;&gt;140092399009072 -->\n",
       "<g class=\"edge\" id=\"edge4\"><title>140092399054352-&gt;140092399009072</title>\n",
       "<path d=\"M220.5,-332.366C220.5,-324.152 220.5,-314.658 220.5,-305.725\" fill=\"none\" stroke=\"black\"/>\n",
       "<polygon fill=\"black\" points=\"224,-305.607 220.5,-295.607 217,-305.607 224,-305.607\" stroke=\"black\"/>\n",
       "</g>\n",
       "<!-- 140092399007952 -->\n",
       "<g class=\"node\" id=\"node6\"><title>140092399007952</title>\n",
       "<polygon fill=\"none\" points=\"57,-166.5 57,-212.5 384,-212.5 384,-166.5 57,-166.5\" stroke=\"black\"/>\n",
       "<text font-family=\"Times,serif\" font-size=\"14.00\" text-anchor=\"middle\" x=\"127\" y=\"-185.8\">flatten_1: Flatten</text>\n",
       "<polyline fill=\"none\" points=\"197,-166.5 197,-212.5 \" stroke=\"black\"/>\n",
       "<text font-family=\"Times,serif\" font-size=\"14.00\" text-anchor=\"middle\" x=\"231\" y=\"-197.3\">input:</text>\n",
       "<polyline fill=\"none\" points=\"197,-189.5 265,-189.5 \" stroke=\"black\"/>\n",
       "<text font-family=\"Times,serif\" font-size=\"14.00\" text-anchor=\"middle\" x=\"231\" y=\"-174.3\">output:</text>\n",
       "<polyline fill=\"none\" points=\"265,-166.5 265,-212.5 \" stroke=\"black\"/>\n",
       "<text font-family=\"Times,serif\" font-size=\"14.00\" text-anchor=\"middle\" x=\"324.5\" y=\"-197.3\">(None, 2, 2, 3)</text>\n",
       "<polyline fill=\"none\" points=\"265,-189.5 384,-189.5 \" stroke=\"black\"/>\n",
       "<text font-family=\"Times,serif\" font-size=\"14.00\" text-anchor=\"middle\" x=\"324.5\" y=\"-174.3\">(None, 12)</text>\n",
       "</g>\n",
       "<!-- 140092399009072&#45;&gt;140092399007952 -->\n",
       "<g class=\"edge\" id=\"edge5\"><title>140092399009072-&gt;140092399007952</title>\n",
       "<path d=\"M220.5,-249.366C220.5,-241.152 220.5,-231.658 220.5,-222.725\" fill=\"none\" stroke=\"black\"/>\n",
       "<polygon fill=\"black\" points=\"224,-222.607 220.5,-212.607 217,-222.607 224,-222.607\" stroke=\"black\"/>\n",
       "</g>\n",
       "<!-- 140092399071528 -->\n",
       "<g class=\"node\" id=\"node7\"><title>140092399071528</title>\n",
       "<polygon fill=\"none\" points=\"76.5,-83.5 76.5,-129.5 364.5,-129.5 364.5,-83.5 76.5,-83.5\" stroke=\"black\"/>\n",
       "<text font-family=\"Times,serif\" font-size=\"14.00\" text-anchor=\"middle\" x=\"140.5\" y=\"-102.8\">dense_1: Dense</text>\n",
       "<polyline fill=\"none\" points=\"204.5,-83.5 204.5,-129.5 \" stroke=\"black\"/>\n",
       "<text font-family=\"Times,serif\" font-size=\"14.00\" text-anchor=\"middle\" x=\"238.5\" y=\"-114.3\">input:</text>\n",
       "<polyline fill=\"none\" points=\"204.5,-106.5 272.5,-106.5 \" stroke=\"black\"/>\n",
       "<text font-family=\"Times,serif\" font-size=\"14.00\" text-anchor=\"middle\" x=\"238.5\" y=\"-91.3\">output:</text>\n",
       "<polyline fill=\"none\" points=\"272.5,-83.5 272.5,-129.5 \" stroke=\"black\"/>\n",
       "<text font-family=\"Times,serif\" font-size=\"14.00\" text-anchor=\"middle\" x=\"318.5\" y=\"-114.3\">(None, 12)</text>\n",
       "<polyline fill=\"none\" points=\"272.5,-106.5 364.5,-106.5 \" stroke=\"black\"/>\n",
       "<text font-family=\"Times,serif\" font-size=\"14.00\" text-anchor=\"middle\" x=\"318.5\" y=\"-91.3\">(None, 8)</text>\n",
       "</g>\n",
       "<!-- 140092399007952&#45;&gt;140092399071528 -->\n",
       "<g class=\"edge\" id=\"edge6\"><title>140092399007952-&gt;140092399071528</title>\n",
       "<path d=\"M220.5,-166.366C220.5,-158.152 220.5,-148.658 220.5,-139.725\" fill=\"none\" stroke=\"black\"/>\n",
       "<polygon fill=\"black\" points=\"224,-139.607 220.5,-129.607 217,-139.607 224,-139.607\" stroke=\"black\"/>\n",
       "</g>\n",
       "<!-- 140092399720768 -->\n",
       "<g class=\"node\" id=\"node8\"><title>140092399720768</title>\n",
       "<polygon fill=\"none\" points=\"81,-0.5 81,-46.5 360,-46.5 360,-0.5 81,-0.5\" stroke=\"black\"/>\n",
       "<text font-family=\"Times,serif\" font-size=\"14.00\" text-anchor=\"middle\" x=\"145\" y=\"-19.8\">dense_2: Dense</text>\n",
       "<polyline fill=\"none\" points=\"209,-0.5 209,-46.5 \" stroke=\"black\"/>\n",
       "<text font-family=\"Times,serif\" font-size=\"14.00\" text-anchor=\"middle\" x=\"243\" y=\"-31.3\">input:</text>\n",
       "<polyline fill=\"none\" points=\"209,-23.5 277,-23.5 \" stroke=\"black\"/>\n",
       "<text font-family=\"Times,serif\" font-size=\"14.00\" text-anchor=\"middle\" x=\"243\" y=\"-8.3\">output:</text>\n",
       "<polyline fill=\"none\" points=\"277,-0.5 277,-46.5 \" stroke=\"black\"/>\n",
       "<text font-family=\"Times,serif\" font-size=\"14.00\" text-anchor=\"middle\" x=\"318.5\" y=\"-31.3\">(None, 8)</text>\n",
       "<polyline fill=\"none\" points=\"277,-23.5 360,-23.5 \" stroke=\"black\"/>\n",
       "<text font-family=\"Times,serif\" font-size=\"14.00\" text-anchor=\"middle\" x=\"318.5\" y=\"-8.3\">(None, 3)</text>\n",
       "</g>\n",
       "<!-- 140092399071528&#45;&gt;140092399720768 -->\n",
       "<g class=\"edge\" id=\"edge7\"><title>140092399071528-&gt;140092399720768</title>\n",
       "<path d=\"M220.5,-83.3664C220.5,-75.1516 220.5,-65.6579 220.5,-56.7252\" fill=\"none\" stroke=\"black\"/>\n",
       "<polygon fill=\"black\" points=\"224,-56.6068 220.5,-46.6068 217,-56.6069 224,-56.6068\" stroke=\"black\"/>\n",
       "</g>\n",
       "</g>\n",
       "</svg>"
      ],
      "text/plain": [
       "<IPython.core.display.SVG object>"
      ]
     },
     "execution_count": 10,
     "metadata": {},
     "output_type": "execute_result"
    }
   ],
   "source": [
    "SVG(model_to_dot(model, show_shapes=True).create(prog='dot', format='svg'))"
   ]
  },
  {
   "cell_type": "code",
   "execution_count": null,
   "metadata": {},
   "outputs": [],
   "source": []
  }
 ],
 "metadata": {
  "kernelspec": {
   "display_name": "Python 3",
   "language": "python",
   "name": "python3"
  },
  "language_info": {
   "codemirror_mode": {
    "name": "ipython",
    "version": 3
   },
   "file_extension": ".py",
   "mimetype": "text/x-python",
   "name": "python",
   "nbconvert_exporter": "python",
   "pygments_lexer": "ipython3",
   "version": "3.5.2"
  }
 },
 "nbformat": 4,
 "nbformat_minor": 2
}
